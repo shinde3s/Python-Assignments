{
 "cells": [
  {
   "cell_type": "markdown",
   "id": "2a6af983",
   "metadata": {},
   "source": [
    "# Assignment 2"
   ]
  },
  {
   "cell_type": "markdown",
   "id": "fbed9578",
   "metadata": {},
   "source": [
    "1. What are the two values of the Boolean data type? How do you write them?"
   ]
  },
  {
   "cell_type": "code",
   "execution_count": null,
   "id": "0c7b6033",
   "metadata": {},
   "outputs": [],
   "source": [
    "Ans: Boolean data type has 2 values as 0 and 1, we write them as True and False (case sensitive)"
   ]
  },
  {
   "cell_type": "code",
   "execution_count": 1,
   "id": "b966ebdd",
   "metadata": {},
   "outputs": [
    {
     "name": "stdout",
     "output_type": "stream",
     "text": [
      "<class 'bool'>\n",
      "<class 'bool'>\n"
     ]
    }
   ],
   "source": [
    "a= True\n",
    "b= False\n",
    "print(type(a))\n",
    "print(type(b))"
   ]
  },
  {
   "cell_type": "markdown",
   "id": "54d98bbd",
   "metadata": {},
   "source": [
    "2. What are the three different types of Boolean operators?"
   ]
  },
  {
   "cell_type": "code",
   "execution_count": null,
   "id": "0b99482d",
   "metadata": {},
   "outputs": [],
   "source": [
    "Ans: Three boolean types are AND, OR & NOT"
   ]
  },
  {
   "cell_type": "code",
   "execution_count": null,
   "id": "bc3433a0",
   "metadata": {},
   "outputs": [],
   "source": [
    "     AND can be used as and e.g. a and b"
   ]
  },
  {
   "cell_type": "code",
   "execution_count": null,
   "id": "6aafb749",
   "metadata": {},
   "outputs": [],
   "source": [
    "     OR can be used as or e.g. b or a"
   ]
  },
  {
   "cell_type": "code",
   "execution_count": null,
   "id": "3ab14117",
   "metadata": {},
   "outputs": [],
   "source": [
    "     NOT can be used as not e.g. not(a)"
   ]
  },
  {
   "cell_type": "code",
   "execution_count": 2,
   "id": "20638d78",
   "metadata": {},
   "outputs": [
    {
     "name": "stdout",
     "output_type": "stream",
     "text": [
      "Truth table for AND:\n",
      "True and True= True\n",
      "True and False= False\n",
      "False and True= False\n",
      "False and False= False\n",
      "\n",
      " xxxxxxxxxxxxxxxxxxxxxxxxx \n",
      "\n",
      "Truth table for or:\n",
      "True or True= True\n",
      "True or False= True\n",
      "False or True= True\n",
      "False or False= False\n",
      "\n",
      " xxxxxxxxxxxxxxxxxxxxxxxxx \n",
      "\n",
      "Truth table for NOT: \n",
      "not(True) =  False\n",
      "not(False) =  True\n"
     ]
    }
   ],
   "source": [
    "#3. Make a list of each Boolean operator's truth tables (i.e. every possible combination of Boolean values for the operator and what it evaluate).\n",
    "#Ans:\n",
    "print(\"Truth table for AND:\")\n",
    "print(\"True and True=\", True and True)\n",
    "print(\"True and False=\", True and False)\n",
    "print(\"False and True=\", False and True)\n",
    "print(\"False and False=\", False and False)\n",
    "print('\\n','x'*25,'\\n')\n",
    "print(\"Truth table for or:\")\n",
    "print(\"True or True=\", True or True)\n",
    "print(\"True or False=\", True or False)\n",
    "print(\"False or True=\", False or True)\n",
    "print(\"False or False=\", False or False)\n",
    "print('\\n','x'*25,'\\n')\n",
    "print(\"Truth table for NOT: \")\n",
    "print(\"not(True) = \", not(True))\n",
    "print(\"not(False) = \", not(False))"
   ]
  },
  {
   "cell_type": "code",
   "execution_count": null,
   "id": "b23d49ea",
   "metadata": {},
   "outputs": [],
   "source": [
    "4. What are the values of the following expressions?\n",
    "(5 > 4) and (3 == 5) \n",
    "not (5 > 4) \n",
    "(5 > 4) or (3 == 5) \n",
    "not ((5 > 4) or (3 == 5)) \n",
    "(True and True) and (True == False) \n",
    "(not False) or (not True)"
   ]
  },
  {
   "cell_type": "code",
   "execution_count": 3,
   "id": "c15a244d",
   "metadata": {},
   "outputs": [
    {
     "name": "stdout",
     "output_type": "stream",
     "text": [
      "False\n",
      "False\n",
      "True\n",
      "False\n",
      "False\n",
      "True\n"
     ]
    }
   ],
   "source": [
    "print((5 > 4) and (3 == 5))\n",
    "print(not (5 > 4))\n",
    "print((5 > 4) or (3 == 5))\n",
    "print(not ((5 > 4) or (3 == 5)))\n",
    "print((True and True) and (True == False))\n",
    "print((not False) or (not True))"
   ]
  },
  {
   "cell_type": "markdown",
   "id": "2ce0f3f6",
   "metadata": {},
   "source": [
    "5. What are the six comparison operators?"
   ]
  },
  {
   "cell_type": "code",
   "execution_count": null,
   "id": "14030c35",
   "metadata": {},
   "outputs": [],
   "source": [
    "Ans. The Six comparision operators available in python are: Equal (==) compares if equal e.g. x==y"
   ]
  },
  {
   "cell_type": "code",
   "execution_count": null,
   "id": "05c91ff8",
   "metadata": {},
   "outputs": [],
   "source": [
    "     Not Equal (!=) compares if not equal e.g. x!=y"
   ]
  },
  {
   "cell_type": "code",
   "execution_count": null,
   "id": "7d82007b",
   "metadata": {},
   "outputs": [],
   "source": [
    "     Greater than (>) compares if greater than e.g. x>y"
   ]
  },
  {
   "cell_type": "code",
   "execution_count": null,
   "id": "9b99a335",
   "metadata": {},
   "outputs": [],
   "source": [
    "     Less than (<) compares if less than e.g. x<y"
   ]
  },
  {
   "cell_type": "code",
   "execution_count": null,
   "id": "5e2fb1f2",
   "metadata": {},
   "outputs": [],
   "source": [
    "     Greater than or equal to (>=) compares if greater than or equal to e.g. x>=y"
   ]
  },
  {
   "cell_type": "code",
   "execution_count": null,
   "id": "eb5c24f9",
   "metadata": {},
   "outputs": [],
   "source": [
    "     Less than or equal to (<=) compares if less than or equal to e.g. x<=y"
   ]
  },
  {
   "cell_type": "markdown",
   "id": "2998766b",
   "metadata": {},
   "source": [
    "6. How do you tell the difference between the equal to and assignment operators? Describe a condition and when you would use one."
   ]
  },
  {
   "cell_type": "markdown",
   "id": "97551957",
   "metadata": {},
   "source": [
    "Ans: comparison operator equal to is used to compare if the values are equal, and assignment operator is used to store the data inside varaible, list, set etc."
   ]
  },
  {
   "cell_type": "code",
   "execution_count": null,
   "id": "bd2675f0",
   "metadata": {},
   "outputs": [],
   "source": [
    "equal to is defined with \"==\" while assignment operator is defined with \"=\""
   ]
  },
  {
   "cell_type": "code",
   "execution_count": null,
   "id": "894afd6c",
   "metadata": {},
   "outputs": [],
   "source": [
    "If I want to store a value in variable \"a\" , say 23, I will use assignment operator e.g. a = 23"
   ]
  },
  {
   "cell_type": "code",
   "execution_count": null,
   "id": "360a2ba9",
   "metadata": {},
   "outputs": [],
   "source": [
    "If I want to check if a value stored in variable \"a\", say 24, I will use comparison operator e.g. a == 24"
   ]
  },
  {
   "cell_type": "code",
   "execution_count": null,
   "id": "291d5868",
   "metadata": {},
   "outputs": [],
   "source": [
    "P.S. We will get some output for comparison operator like True or False but there is no output for assignment operator as it is used to asign a value."
   ]
  },
  {
   "cell_type": "code",
   "execution_count": 4,
   "id": "e8f69771",
   "metadata": {},
   "outputs": [
    {
     "name": "stdout",
     "output_type": "stream",
     "text": [
      "ham\n",
      "spam\n",
      "spam\n"
     ]
    }
   ],
   "source": [
    "#7. Identify the three blocks in this code:\n",
    "spam = 0 \n",
    "if spam == 10: \n",
    "    print('eggs') #block 1 \n",
    "    if spam > 5: \n",
    "        print('bacon') #block 2 \n",
    "else: \n",
    "    print('ham') #block 3 \n",
    "print('spam') \n",
    "print('spam')"
   ]
  },
  {
   "cell_type": "code",
   "execution_count": 5,
   "id": "3e4e25af",
   "metadata": {},
   "outputs": [
    {
     "name": "stdout",
     "output_type": "stream",
     "text": [
      "Greetings!\n"
     ]
    }
   ],
   "source": [
    "#8. Write code that prints Hello if 1 is stored in spam, prints Howdy if 2 is stored in spam, and prints Greetings! if anything else is stored in spam.\n",
    "spam=0\n",
    "if spam==1:\n",
    "    print(\"Hello\")\n",
    "    if spam ==2:\n",
    "        print(\"Howdy\")\n",
    "else:\n",
    "    print(\"Greetings!\")"
   ]
  },
  {
   "cell_type": "markdown",
   "id": "5fde584a",
   "metadata": {},
   "source": [
    "9. If your programme is stuck in an endless loop, what keys you’ll press?"
   ]
  },
  {
   "cell_type": "code",
   "execution_count": null,
   "id": "93feeed2",
   "metadata": {},
   "outputs": [],
   "source": [
    "Ans: Press ctlr+c to stop a programme stuck in an infinite loop"
   ]
  },
  {
   "cell_type": "markdown",
   "id": "61db01aa",
   "metadata": {},
   "source": [
    "10. How can you tell the difference between break and continue?"
   ]
  },
  {
   "cell_type": "markdown",
   "id": "ad104f36",
   "metadata": {},
   "source": [
    "Ans. The break statement will move the execution outside the loop if break condtion is satisfied. Whereas the continue statement will move the execution to the start of the loop."
   ]
  },
  {
   "cell_type": "markdown",
   "id": "430b95ca",
   "metadata": {},
   "source": [
    "11. In a for loop, what is the difference between range(10), range(0, 10), and range(0, 10, 1)?"
   ]
  },
  {
   "cell_type": "code",
   "execution_count": null,
   "id": "35488b55",
   "metadata": {},
   "outputs": [],
   "source": [
    "Ans. It makes no difference inside the for loop. The only difference is"
   ]
  },
  {
   "cell_type": "code",
   "execution_count": null,
   "id": "209e40db",
   "metadata": {},
   "outputs": [],
   "source": [
    "1. The range(10) call range from 0 to 9 (but not include 10)"
   ]
  },
  {
   "cell_type": "code",
   "execution_count": null,
   "id": "53bace2f",
   "metadata": {},
   "outputs": [],
   "source": [
    "2. The range (0,10) explicitly tells the loop to start at 0"
   ]
  },
  {
   "cell_type": "code",
   "execution_count": null,
   "id": "3b32a1b0",
   "metadata": {},
   "outputs": [],
   "source": [
    "3. The range(0,10,1) explicitly tells the loop to increase the variable by 1 on each iteration"
   ]
  },
  {
   "cell_type": "code",
   "execution_count": 6,
   "id": "74957cf1",
   "metadata": {},
   "outputs": [
    {
     "name": "stdout",
     "output_type": "stream",
     "text": [
      "0\n",
      "1\n",
      "2\n",
      "3\n",
      "4\n",
      "5\n",
      "6\n",
      "7\n",
      "8\n",
      "9\n",
      "xxxxxxxxxxxxxxxxxxxxxxxxx\n",
      "0\n",
      "1\n",
      "2\n",
      "3\n",
      "4\n",
      "5\n",
      "6\n",
      "7\n",
      "8\n",
      "9\n",
      "xxxxxxxxxxxxxxxxxxxxxxxxx\n",
      "0\n",
      "1\n",
      "2\n",
      "3\n",
      "4\n",
      "5\n",
      "6\n",
      "7\n",
      "8\n",
      "9\n"
     ]
    }
   ],
   "source": [
    "for num in range(10):\n",
    "    print(num)\n",
    "print(\"x\"*25)\n",
    "for j in range(0,10):\n",
    "    print(j)\n",
    "print(\"x\"*25)\n",
    "for k in range(0,10,1):\n",
    "    print(k)"
   ]
  },
  {
   "cell_type": "markdown",
   "id": "5b143663",
   "metadata": {},
   "source": [
    "12. Write a short program that prints the numbers 1 to 10 using a for loop. Then write an equivalent program that prints the numbers 1 to 10 using a while loop."
   ]
  },
  {
   "cell_type": "code",
   "execution_count": 16,
   "id": "3defa4a5",
   "metadata": {},
   "outputs": [
    {
     "name": "stdout",
     "output_type": "stream",
     "text": [
      "Program using for loop\n",
      "1 2 3 4 5 6 7 8 9 10 \n",
      "\n",
      "Program using while loop\n",
      "1 2 3 4 5 6 7 8 9 10 "
     ]
    }
   ],
   "source": [
    "print(\"Program using for loop\")\n",
    "for i in range (1, 11):\n",
    "    print(i, end=\" \")\n",
    "print('\\n')\n",
    "print(\"Program using while loop\")\n",
    "i=0\n",
    "while i <10:\n",
    "    i=i+1\n",
    "    print(i, end=\" \")\n",
    "    "
   ]
  },
  {
   "cell_type": "markdown",
   "id": "cce0d0ea",
   "metadata": {},
   "source": [
    "13. If you had a function named bacon() inside a module named spam, how would you call it after importing spam?"
   ]
  },
  {
   "cell_type": "code",
   "execution_count": null,
   "id": "54b60ad8",
   "metadata": {},
   "outputs": [],
   "source": [
    "Ans. This function can be called with spam.bacon()"
   ]
  }
 ],
 "metadata": {
  "kernelspec": {
   "display_name": "Python 3 (ipykernel)",
   "language": "python",
   "name": "python3"
  },
  "language_info": {
   "codemirror_mode": {
    "name": "ipython",
    "version": 3
   },
   "file_extension": ".py",
   "mimetype": "text/x-python",
   "name": "python",
   "nbconvert_exporter": "python",
   "pygments_lexer": "ipython3",
   "version": "3.9.7"
  }
 },
 "nbformat": 4,
 "nbformat_minor": 5
}
