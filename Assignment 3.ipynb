{
 "cells": [
  {
   "cell_type": "markdown",
   "id": "f53a2377",
   "metadata": {},
   "source": [
    "# Assignment 3"
   ]
  },
  {
   "cell_type": "markdown",
   "id": "521144f9",
   "metadata": {},
   "source": [
    "1. Why are functions advantageous to have in your programs?"
   ]
  },
  {
   "cell_type": "markdown",
   "id": "106d2dcb",
   "metadata": {},
   "source": [
    "Ans. You can call it anytime without writing the code agian for same objective. Makes the code shorter and easy to read and update."
   ]
  },
  {
   "cell_type": "markdown",
   "id": "f70531bb",
   "metadata": {},
   "source": [
    "2. When does the code in a function run: when it's specified or when it's called?"
   ]
  },
  {
   "cell_type": "markdown",
   "id": "0f4f077e",
   "metadata": {},
   "source": [
    "Ans. The code in funcion is run when it is called."
   ]
  },
  {
   "cell_type": "markdown",
   "id": "37c5b45e",
   "metadata": {},
   "source": [
    "3. What statement creates a function?"
   ]
  },
  {
   "cell_type": "markdown",
   "id": "349087ac",
   "metadata": {},
   "source": [
    "Ans. We can create function using the def statement."
   ]
  },
  {
   "cell_type": "markdown",
   "id": "c035ceff",
   "metadata": {},
   "source": [
    "4. What is the difference between a function and a function call?"
   ]
  },
  {
   "cell_type": "markdown",
   "id": "df25fb3e",
   "metadata": {},
   "source": [
    "Ans. Function is the actual code and logic for operation to be performed. Function call is used to perform the operations on the inputs provided."
   ]
  },
  {
   "cell_type": "markdown",
   "id": "614bc798",
   "metadata": {},
   "source": [
    "5. How many global scopes are there in a Python program? How many local scopes?"
   ]
  },
  {
   "cell_type": "markdown",
   "id": "c27dedef",
   "metadata": {},
   "source": [
    "Ans. There is only one global scope, and a local scope is created whenever a function is called (can be multiple)."
   ]
  },
  {
   "cell_type": "markdown",
   "id": "6c97db1c",
   "metadata": {},
   "source": [
    "6. What happens to variables in a local scope when the function call returns?"
   ]
  },
  {
   "cell_type": "markdown",
   "id": "8d9231bf",
   "metadata": {},
   "source": [
    "Ans. When a function returns, the local scope is destroyed, and all the variables in it are forgotten."
   ]
  },
  {
   "cell_type": "markdown",
   "id": "959fe660",
   "metadata": {},
   "source": [
    "7. What is the concept of a return value? Is it possible to have a return value in an expression?"
   ]
  },
  {
   "cell_type": "markdown",
   "id": "208d00dc",
   "metadata": {},
   "source": [
    "Ans. A return value is the value that a function call evaluates to. Like any value, a return value can be used as part of an expression."
   ]
  },
  {
   "cell_type": "markdown",
   "id": "d095ede1",
   "metadata": {},
   "source": [
    "8. If a function does not have a return statement, what is the return value of a call to that function?"
   ]
  },
  {
   "cell_type": "markdown",
   "id": "4727bb51",
   "metadata": {},
   "source": [
    "Ans. If there is no return statement for a function, its return value is None"
   ]
  },
  {
   "cell_type": "markdown",
   "id": "6229c06e",
   "metadata": {},
   "source": [
    "9. How do you make a function variable refer to the global variable?"
   ]
  },
  {
   "cell_type": "markdown",
   "id": "12f5477a",
   "metadata": {},
   "source": [
    "Ans. A global statement will force a variable in a function to refer to the global variable. If you want to refer to a global variable in a function, you can use the global keyword to declare which variables are global."
   ]
  },
  {
   "cell_type": "markdown",
   "id": "b59568d6",
   "metadata": {},
   "source": [
    "10. What is the data type of None?"
   ]
  },
  {
   "cell_type": "markdown",
   "id": "288cf10f",
   "metadata": {},
   "source": [
    "Ans. NoneType"
   ]
  },
  {
   "cell_type": "code",
   "execution_count": 1,
   "id": "c72466e7",
   "metadata": {},
   "outputs": [
    {
     "data": {
      "text/plain": [
       "NoneType"
      ]
     },
     "execution_count": 1,
     "metadata": {},
     "output_type": "execute_result"
    }
   ],
   "source": [
    "type(None)"
   ]
  },
  {
   "cell_type": "markdown",
   "id": "c3bd0f8c",
   "metadata": {},
   "source": [
    "11. What does the sentence import areallyourpetsnamederic do?"
   ]
  },
  {
   "cell_type": "markdown",
   "id": "5816f48e",
   "metadata": {},
   "source": [
    "Ans. That import statement imports a module named areallyourpetsnamederic."
   ]
  },
  {
   "cell_type": "markdown",
   "id": "e18ce946",
   "metadata": {},
   "source": [
    "12. If you had a bacon() feature in a spam module, what would you call it after importing spam?"
   ]
  },
  {
   "cell_type": "markdown",
   "id": "f696b059",
   "metadata": {},
   "source": [
    "Ans. We can call it using spam.bacon()"
   ]
  },
  {
   "cell_type": "markdown",
   "id": "dba3dc13",
   "metadata": {},
   "source": [
    "13. What can you do to save a programme from crashing if it encounters an error?"
   ]
  },
  {
   "cell_type": "markdown",
   "id": "d0a609e7",
   "metadata": {},
   "source": [
    "Ans. Use try and except method. Place the line of code that might cause an error in a try clause and use except block to handle the error.(we can also use break to come out of the error)"
   ]
  },
  {
   "cell_type": "markdown",
   "id": "296e0059",
   "metadata": {},
   "source": [
    "14. What is the purpose of the try clause? What is the purpose of the except clause?"
   ]
  },
  {
   "cell_type": "markdown",
   "id": "e286a717",
   "metadata": {},
   "source": [
    "Ans. The code that could potentially cause an error goes in the try clause. The code that executes if an error happens goes in the except clause."
   ]
  }
 ],
 "metadata": {
  "kernelspec": {
   "display_name": "Python 3 (ipykernel)",
   "language": "python",
   "name": "python3"
  },
  "language_info": {
   "codemirror_mode": {
    "name": "ipython",
    "version": 3
   },
   "file_extension": ".py",
   "mimetype": "text/x-python",
   "name": "python",
   "nbconvert_exporter": "python",
   "pygments_lexer": "ipython3",
   "version": "3.9.7"
  }
 },
 "nbformat": 4,
 "nbformat_minor": 5
}
