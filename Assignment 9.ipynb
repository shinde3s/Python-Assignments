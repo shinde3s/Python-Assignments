{
 "cells": [
  {
   "cell_type": "markdown",
   "id": "1e7c2140",
   "metadata": {},
   "source": [
    " # Assignment 9"
   ]
  },
  {
   "cell_type": "code",
   "execution_count": null,
   "id": "0b56f23f",
   "metadata": {},
   "outputs": [],
   "source": [
    "1. To what does a relative path refer?"
   ]
  },
  {
   "cell_type": "code",
   "execution_count": null,
   "id": "bd76febd",
   "metadata": {},
   "outputs": [],
   "source": [
    "Ans: The relative path is the path of a file with respect to your current working directory,\n",
    "     current working directory + relative path = absolute path"
   ]
  },
  {
   "cell_type": "code",
   "execution_count": null,
   "id": "3ab3d1d5",
   "metadata": {},
   "outputs": [],
   "source": [
    "2. What does an absolute path start with your operating system?"
   ]
  },
  {
   "cell_type": "code",
   "execution_count": null,
   "id": "d01abba6",
   "metadata": {},
   "outputs": [],
   "source": [
    "Ans: In Windows based system absolute path starts with c: and in Linux it starts with /"
   ]
  },
  {
   "cell_type": "code",
   "execution_count": null,
   "id": "80703f41",
   "metadata": {},
   "outputs": [],
   "source": [
    "3. What do the functions os.getcwd() and os.chdir() do?"
   ]
  },
  {
   "cell_type": "code",
   "execution_count": null,
   "id": "9b9aba31",
   "metadata": {},
   "outputs": [],
   "source": [
    "Ans: os.getcwd() is used to get the Current Working Directory (CWD),\n",
    "     os.chdir() is used to change the current directory to specified path. \n",
    "     pwd for current directory and cd for change directory can also be used."
   ]
  },
  {
   "cell_type": "code",
   "execution_count": null,
   "id": "8707e96a",
   "metadata": {},
   "outputs": [],
   "source": [
    "4. What are the . and .. folders?"
   ]
  },
  {
   "cell_type": "code",
   "execution_count": null,
   "id": "0378602e",
   "metadata": {},
   "outputs": [],
   "source": [
    "Ans: The . is the current directory, while .. signifies the parent directory."
   ]
  },
  {
   "cell_type": "code",
   "execution_count": null,
   "id": "e75745d2",
   "metadata": {},
   "outputs": [],
   "source": [
    "5. In C:\\bacon\\eggs\\spam.txt, which part is the dir name, and which part is the base name?"
   ]
  },
  {
   "cell_type": "code",
   "execution_count": null,
   "id": "1e0c4787",
   "metadata": {},
   "outputs": [],
   "source": [
    "Ans: C:\\bacon\\eggs\\ is dir name, spam.txt is base name"
   ]
  },
  {
   "cell_type": "code",
   "execution_count": null,
   "id": "7ecbbc4d",
   "metadata": {},
   "outputs": [],
   "source": [
    "6. What are the three “mode” arguments that can be passed to the open() function?"
   ]
  },
  {
   "cell_type": "code",
   "execution_count": null,
   "id": "144f5da1",
   "metadata": {},
   "outputs": [],
   "source": [
    "Ans: The mode arguments that can be passed to the open() function are as follows:\n",
    "    'r' - read mode: This is the default mode for open(). The file is opened for reading,\n",
    "    'w' - write mode: open for writing, truncates(cuts) the old content of the file,\n",
    "    'r+' - read/write mode: read and write simultaneously,\n",
    "    'a' - append mode : open for writing, appending to the end of the file if it exists. No overwriting.,\n",
    "    'a+' - append and read mode: read and append the data without overwriting the original file,\n",
    "    'b' - binary mode : used along with read or write mode ('wb', 'rb') for binary files,\n",
    "    'x' - exclusive creating mode: create a new file and open it for writing. used when file with same name dont exists."
   ]
  },
  {
   "cell_type": "code",
   "execution_count": null,
   "id": "2650ffa6",
   "metadata": {},
   "outputs": [],
   "source": [
    "7. What happens if an existing file is opened in write mode?"
   ]
  },
  {
   "cell_type": "code",
   "execution_count": null,
   "id": "c4d4182c",
   "metadata": {},
   "outputs": [],
   "source": [
    "Ans: If an existing file is opened in write mode will overwrite any existing content in a file."
   ]
  },
  {
   "cell_type": "code",
   "execution_count": null,
   "id": "bc23bb41",
   "metadata": {},
   "outputs": [],
   "source": [
    "8. How do you tell the difference between read() and readlines()?"
   ]
  },
  {
   "cell_type": "code",
   "execution_count": null,
   "id": "ed9099f2",
   "metadata": {},
   "outputs": [],
   "source": [
    "Ans: read()command will read the entire contents of the file into a string, \n",
    "     while readline() command just reads file till the next line,\n",
    "     This is useful if there are big files for the RAM."
   ]
  },
  {
   "cell_type": "code",
   "execution_count": null,
   "id": "c84555ae",
   "metadata": {},
   "outputs": [],
   "source": [
    "9. What data structure does a shelf value resemble?"
   ]
  },
  {
   "cell_type": "code",
   "execution_count": null,
   "id": "18b08469",
   "metadata": {},
   "outputs": [],
   "source": [
    "Ans: It resembles a dictionary having key values."
   ]
  }
 ],
 "metadata": {
  "kernelspec": {
   "display_name": "Python 3 (ipykernel)",
   "language": "python",
   "name": "python3"
  },
  "language_info": {
   "codemirror_mode": {
    "name": "ipython",
    "version": 3
   },
   "file_extension": ".py",
   "mimetype": "text/x-python",
   "name": "python",
   "nbconvert_exporter": "python",
   "pygments_lexer": "ipython3",
   "version": "3.9.7"
  }
 },
 "nbformat": 4,
 "nbformat_minor": 5
}
