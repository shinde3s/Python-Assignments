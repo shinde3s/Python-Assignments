{
 "cells": [
  {
   "cell_type": "markdown",
   "id": "ed56792a",
   "metadata": {},
   "source": [
    "# Assignment 10"
   ]
  },
  {
   "cell_type": "code",
   "execution_count": null,
   "id": "304c83d7",
   "metadata": {},
   "outputs": [],
   "source": [
    "1. How do you distinguish between shutil.copy() and shutil.copytree()?"
   ]
  },
  {
   "cell_type": "code",
   "execution_count": null,
   "id": "beca3189",
   "metadata": {},
   "outputs": [],
   "source": [
    "Ans: shutil.copy()` method is used to copy the content of file from source to destination file or directory. \n",
    "     No metadata like creation and modification time is not preserved but the permission mode is preserved.\n",
    "     If source and destination are the same file, a SameFileError will be raised.\n",
    "     shutil.copytree() method recursively copies an entire directory tree rooted at source to the destination directory.\n",
    "     The destination directory must not already exist. It will be created during copying.\n",
    "     Permissions, creation and modification time of directories are copied with copystat() and \n",
    "     individual files are copied using shutil.copy2()"
   ]
  },
  {
   "cell_type": "code",
   "execution_count": null,
   "id": "20d5e914",
   "metadata": {},
   "outputs": [],
   "source": [
    "2. What function is used to rename files??"
   ]
  },
  {
   "cell_type": "code",
   "execution_count": null,
   "id": "b2a80124",
   "metadata": {},
   "outputs": [],
   "source": [
    "Ans: os.rename() method is used to rename a file or directory."
   ]
  },
  {
   "cell_type": "code",
   "execution_count": null,
   "id": "7cf4e323",
   "metadata": {},
   "outputs": [],
   "source": [
    "3. What is the difference between the delete functions in the send2trash and shutil modules?"
   ]
  },
  {
   "cell_type": "code",
   "execution_count": null,
   "id": "d3e9fe54",
   "metadata": {},
   "outputs": [],
   "source": [
    "Ans: a. Shutil module provides a funciton called as shutil.rmtree() which deletes a directory and all its contents.\n",
    "     The problem with these functions is once a file is deleted, it will be lost permanently.\n",
    "     if a file is deleted accidentally using these methods, there is no way we can recover the deleted file.\n",
    "    \n",
    "     b. Where as send2trash module provides a function called send2trash.send2trash() to delete a file/directory.\n",
    "     this method moves the files/directories to trash folder instead of permanently deleting them. \n",
    "     hence if a file/folder is deleted accidentally it can be still recovered from trash folder. "
   ]
  },
  {
   "cell_type": "code",
   "execution_count": null,
   "id": "8ff96054",
   "metadata": {},
   "outputs": [],
   "source": [
    "4. ZipFile objects have a close() method just like File objects’ close() method. What ZipFile method is\n",
    "equivalent to File objects’ open() method?"
   ]
  },
  {
   "cell_type": "code",
   "execution_count": null,
   "id": "0c4599e2",
   "metadata": {},
   "outputs": [],
   "source": [
    "Ans: ZipFile Module provides a method called as zipfile.ZipFile() to read and write to zipFiles.\n",
    "     it takes arugments like filename and mode etc zipfile.ZipFile('filename', mode = 'r')"
   ]
  },
  {
   "cell_type": "code",
   "execution_count": null,
   "id": "68a067b3",
   "metadata": {},
   "outputs": [],
   "source": [
    "5. Create a programme that searches a folder tree for files with a certain file extension (such as .pdf\n",
    "or .jpg). Copy these files from whatever location they are in to a new folder."
   ]
  },
  {
   "cell_type": "code",
   "execution_count": null,
   "id": "7a29fac8",
   "metadata": {},
   "outputs": [],
   "source": [
    "#Ans:\n",
    "import os, shutil\n",
    "\n",
    "def selectiveCopy(folder, extensions, destFolder):\n",
    "    folder = os.path.abspath(folder)\n",
    "    destFolder = os.path.abspath(destFolder)\n",
    "    print('Looking in', folder, 'for files with extensions of', ', '.join(extensions))\n",
    "    for foldername, subfolders, filenames in os.walk(folder):\n",
    "        for filename in filenames:\n",
    "            name, extension = os.path.splitext(filename)\n",
    "            if extension in extensions:\n",
    "                fileAbsPath = foldername + os.path.sep + filename\n",
    "                print('Coping', fileAbsPath, 'to', destFolder)\n",
    "                shutil.copy(fileAbsPath, destFolder)\n",
    "\n",
    "extensions = ['.php', '.py']\n",
    "folder = 'randomFolder'\n",
    "destFolder = 'selectiveFolder'\n",
    "selectiveCopy(folder, extensions, destFolder)"
   ]
  }
 ],
 "metadata": {
  "kernelspec": {
   "display_name": "Python 3 (ipykernel)",
   "language": "python",
   "name": "python3"
  },
  "language_info": {
   "codemirror_mode": {
    "name": "ipython",
    "version": 3
   },
   "file_extension": ".py",
   "mimetype": "text/x-python",
   "name": "python",
   "nbconvert_exporter": "python",
   "pygments_lexer": "ipython3",
   "version": "3.9.7"
  }
 },
 "nbformat": 4,
 "nbformat_minor": 5
}
