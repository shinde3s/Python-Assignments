{
 "cells": [
  {
   "cell_type": "markdown",
   "id": "9d2204da",
   "metadata": {},
   "source": [
    "# Assignment 4"
   ]
  },
  {
   "cell_type": "code",
   "execution_count": null,
   "id": "7c7b6f26",
   "metadata": {},
   "outputs": [],
   "source": [
    "1. What exactly is []?"
   ]
  },
  {
   "cell_type": "code",
   "execution_count": null,
   "id": "9c1bb3d7",
   "metadata": {},
   "outputs": [],
   "source": [
    "Ans: [] is used to define a list. list is a collection of a heterogenous data in one variable. [] defines empty list"
   ]
  },
  {
   "cell_type": "code",
   "execution_count": null,
   "id": "19689149",
   "metadata": {},
   "outputs": [],
   "source": [
    "2. In a list of values stored in a variable called spam, how would you assign the value 'hello' as the third value? \n",
    "(Assume [2, 4, 6, 8, 10] are in spam.)"
   ]
  },
  {
   "cell_type": "code",
   "execution_count": 4,
   "id": "35385c2f",
   "metadata": {},
   "outputs": [
    {
     "name": "stdout",
     "output_type": "stream",
     "text": [
      "[2, 4, 'hello', 8, 10]\n"
     ]
    }
   ],
   "source": [
    "spam= [2,4,6,8,10]\n",
    "spam[2]= 'hello'\n",
    "print (spam)"
   ]
  },
  {
   "cell_type": "markdown",
   "id": "a3f67a7e",
   "metadata": {},
   "source": [
    "Let's pretend the spam includes the list ['a', 'b', 'c', 'd'] for the next three queries."
   ]
  },
  {
   "cell_type": "code",
   "execution_count": 5,
   "id": "84247b6a",
   "metadata": {},
   "outputs": [],
   "source": [
    "spam= ['a','b','c','d']"
   ]
  },
  {
   "cell_type": "code",
   "execution_count": null,
   "id": "94c401de",
   "metadata": {},
   "outputs": [],
   "source": [
    "3. What is the value of spam[int(int('3' * 2) / 11)]?"
   ]
  },
  {
   "cell_type": "code",
   "execution_count": 6,
   "id": "ea24ecfd",
   "metadata": {},
   "outputs": [
    {
     "data": {
      "text/plain": [
       "'d'"
      ]
     },
     "execution_count": 6,
     "metadata": {},
     "output_type": "execute_result"
    }
   ],
   "source": [
    "spam[int(int('3' * 2) / 11)]"
   ]
  },
  {
   "cell_type": "code",
   "execution_count": null,
   "id": "9438c1e0",
   "metadata": {},
   "outputs": [],
   "source": [
    "4. What is the value of spam[-1]?"
   ]
  },
  {
   "cell_type": "code",
   "execution_count": 7,
   "id": "02e67b3c",
   "metadata": {},
   "outputs": [
    {
     "data": {
      "text/plain": [
       "'d'"
      ]
     },
     "execution_count": 7,
     "metadata": {},
     "output_type": "execute_result"
    }
   ],
   "source": [
    "spam[-1]"
   ]
  },
  {
   "cell_type": "code",
   "execution_count": null,
   "id": "3f098349",
   "metadata": {},
   "outputs": [],
   "source": [
    "5. What is the value of spam[:2]?"
   ]
  },
  {
   "cell_type": "code",
   "execution_count": 8,
   "id": "d54f6234",
   "metadata": {},
   "outputs": [
    {
     "data": {
      "text/plain": [
       "['a', 'b']"
      ]
     },
     "execution_count": 8,
     "metadata": {},
     "output_type": "execute_result"
    }
   ],
   "source": [
    "spam[:2]"
   ]
  },
  {
   "cell_type": "code",
   "execution_count": null,
   "id": "b5a4b537",
   "metadata": {},
   "outputs": [],
   "source": [
    "Let's pretend bacon has the list [3.14, 'cat', 11, 'cat', True] for the next three questions."
   ]
  },
  {
   "cell_type": "code",
   "execution_count": 9,
   "id": "ed88ec5f",
   "metadata": {},
   "outputs": [],
   "source": [
    "bacon = [3.14, 'cat', 11, 'cat', True]"
   ]
  },
  {
   "cell_type": "code",
   "execution_count": null,
   "id": "72e55f72",
   "metadata": {},
   "outputs": [],
   "source": [
    "6. What is the value of bacon.index('cat')?"
   ]
  },
  {
   "cell_type": "code",
   "execution_count": 10,
   "id": "793b136e",
   "metadata": {},
   "outputs": [
    {
     "data": {
      "text/plain": [
       "1"
      ]
     },
     "execution_count": 10,
     "metadata": {},
     "output_type": "execute_result"
    }
   ],
   "source": [
    "bacon.index('cat')"
   ]
  },
  {
   "cell_type": "code",
   "execution_count": null,
   "id": "6659fa2e",
   "metadata": {},
   "outputs": [],
   "source": [
    "7. How does bacon.append(99) change the look of the list value in bacon?"
   ]
  },
  {
   "cell_type": "code",
   "execution_count": 11,
   "id": "87a3a409",
   "metadata": {},
   "outputs": [],
   "source": [
    "bacon.append(99)"
   ]
  },
  {
   "cell_type": "code",
   "execution_count": 12,
   "id": "cbc65d59",
   "metadata": {},
   "outputs": [
    {
     "data": {
      "text/plain": [
       "[3.14, 'cat', 11, 'cat', True, 99]"
      ]
     },
     "execution_count": 12,
     "metadata": {},
     "output_type": "execute_result"
    }
   ],
   "source": [
    "bacon"
   ]
  },
  {
   "cell_type": "code",
   "execution_count": null,
   "id": "a2bd0df6",
   "metadata": {},
   "outputs": [],
   "source": [
    "8. How does bacon.remove('cat') change the look of the list in bacon?"
   ]
  },
  {
   "cell_type": "code",
   "execution_count": 14,
   "id": "d77b90ba",
   "metadata": {},
   "outputs": [
    {
     "data": {
      "text/plain": [
       "[3.14, 11, 'cat', True]"
      ]
     },
     "execution_count": 14,
     "metadata": {},
     "output_type": "execute_result"
    }
   ],
   "source": [
    "bacon = [3.14, 'cat', 11, 'cat', True]\n",
    "bacon.remove('cat')\n",
    "bacon"
   ]
  },
  {
   "cell_type": "code",
   "execution_count": null,
   "id": "b532a40c",
   "metadata": {},
   "outputs": [],
   "source": [
    "Ans. First instance of 'cat' in the list will be removed."
   ]
  },
  {
   "cell_type": "code",
   "execution_count": null,
   "id": "4cdecc93",
   "metadata": {},
   "outputs": [],
   "source": [
    "9. What are the list concatenation and list replication operators?"
   ]
  },
  {
   "cell_type": "code",
   "execution_count": null,
   "id": "f6acf924",
   "metadata": {},
   "outputs": [],
   "source": [
    "Ans.\n",
    "List concatenation operator is used to join 2 or more list and get a single list. +\n",
    "List replication operator is used to repeate the content of list for given number of times inside a single list. *"
   ]
  },
  {
   "cell_type": "code",
   "execution_count": 17,
   "id": "3c367738",
   "metadata": {},
   "outputs": [
    {
     "data": {
      "text/plain": [
       "[1, 2, 5, 3, 4, 1, 2, 5, 3, 4, 1, 2, 5, 3, 4]"
      ]
     },
     "execution_count": 17,
     "metadata": {},
     "output_type": "execute_result"
    }
   ],
   "source": [
    "i=[1,2,5,3,4]\n",
    "j=['a','c','d']\n",
    "m=i+j\n",
    "m\n",
    "i*3"
   ]
  },
  {
   "cell_type": "code",
   "execution_count": null,
   "id": "59bd7036",
   "metadata": {},
   "outputs": [],
   "source": [
    "10. What is difference between the list methods append() and insert()?"
   ]
  },
  {
   "cell_type": "code",
   "execution_count": null,
   "id": "ec1d90cb",
   "metadata": {},
   "outputs": [],
   "source": [
    "Ans.\n",
    "append() Add an element to the end of the list\n",
    "insert() Insert an element at the defined index"
   ]
  },
  {
   "cell_type": "code",
   "execution_count": 18,
   "id": "60a8ebdb",
   "metadata": {},
   "outputs": [
    {
     "name": "stdout",
     "output_type": "stream",
     "text": [
      "Using append:  [1, 2, 3, 4, 5, 6, 7, 'a']\n",
      "Using insert:  [1, 2, 3, 'b', 4, 5, 6, 7, 'a']\n"
     ]
    }
   ],
   "source": [
    "i=[1,2,3,4,5,6,7]\n",
    "i.append('a')\n",
    "print('Using append: ',i)\n",
    "i.insert(3,'b')\n",
    "print('Using insert: ',i)"
   ]
  },
  {
   "cell_type": "code",
   "execution_count": null,
   "id": "4d75007a",
   "metadata": {},
   "outputs": [],
   "source": [
    "11. What are the two methods for removing items from a list?"
   ]
  },
  {
   "cell_type": "code",
   "execution_count": null,
   "id": "c78a5288",
   "metadata": {},
   "outputs": [],
   "source": [
    "Ans.\n",
    "remove() : removes an element from the list\n",
    "Pop() : Removes and returns an element at the given index"
   ]
  },
  {
   "cell_type": "code",
   "execution_count": null,
   "id": "6c84ed88",
   "metadata": {},
   "outputs": [],
   "source": [
    "12. Describe how list values and string values are identical."
   ]
  },
  {
   "cell_type": "code",
   "execution_count": null,
   "id": "494aa8e2",
   "metadata": {},
   "outputs": [],
   "source": [
    "Ans. \n",
    "List values and string values are same in the sense that both can be sliced in same way and most functions can be used for both except of append(),insert() etc in case of tuple."
   ]
  },
  {
   "cell_type": "code",
   "execution_count": 19,
   "id": "63dbbf20",
   "metadata": {},
   "outputs": [
    {
     "name": "stdout",
     "output_type": "stream",
     "text": [
      "5\n",
      "8\n"
     ]
    }
   ],
   "source": [
    "a = [1,2,3,4,5] #list\n",
    "b = (1,2,3,8,6) #tuple\n",
    "\n",
    "print(a[-1])\n",
    "print(b[-2])"
   ]
  },
  {
   "cell_type": "code",
   "execution_count": null,
   "id": "f78119f5",
   "metadata": {},
   "outputs": [],
   "source": [
    "13. What's the difference between tuples and lists?"
   ]
  },
  {
   "cell_type": "code",
   "execution_count": null,
   "id": "6a00cb4a",
   "metadata": {},
   "outputs": [],
   "source": [
    "Ans. \n",
    "Tuples are imutable while list is a mutable entity. \n",
    "tuple is stored using () round brackets.\n",
    "list is stored using [] square brackets."
   ]
  },
  {
   "cell_type": "code",
   "execution_count": 20,
   "id": "c0bdbe24",
   "metadata": {},
   "outputs": [
    {
     "data": {
      "text/plain": [
       "[1, 2, 3, 4, 5, 22]"
      ]
     },
     "execution_count": 20,
     "metadata": {},
     "output_type": "execute_result"
    }
   ],
   "source": [
    "a.append(22)\n",
    "a"
   ]
  },
  {
   "cell_type": "code",
   "execution_count": 21,
   "id": "b623cdee",
   "metadata": {},
   "outputs": [
    {
     "ename": "AttributeError",
     "evalue": "'tuple' object has no attribute 'append'",
     "output_type": "error",
     "traceback": [
      "\u001b[1;31m---------------------------------------------------------------------------\u001b[0m",
      "\u001b[1;31mAttributeError\u001b[0m                            Traceback (most recent call last)",
      "\u001b[1;32m~\\AppData\\Local\\Temp/ipykernel_840/2077575122.py\u001b[0m in \u001b[0;36m<module>\u001b[1;34m\u001b[0m\n\u001b[1;32m----> 1\u001b[1;33m \u001b[0mb\u001b[0m\u001b[1;33m.\u001b[0m\u001b[0mappend\u001b[0m\u001b[1;33m(\u001b[0m\u001b[1;36m22\u001b[0m\u001b[1;33m)\u001b[0m\u001b[1;33m\u001b[0m\u001b[1;33m\u001b[0m\u001b[0m\n\u001b[0m",
      "\u001b[1;31mAttributeError\u001b[0m: 'tuple' object has no attribute 'append'"
     ]
    }
   ],
   "source": [
    "b.append(22)"
   ]
  },
  {
   "cell_type": "code",
   "execution_count": null,
   "id": "294a203b",
   "metadata": {},
   "outputs": [],
   "source": [
    "14. How do you type a tuple value that only contains the integer 42?"
   ]
  },
  {
   "cell_type": "code",
   "execution_count": null,
   "id": "2916b5bd",
   "metadata": {},
   "outputs": [],
   "source": [
    "Ans. \n",
    "We can do it in two ways, creating a list and converting it to a tuple or put value in tuple using a comma at the end."
   ]
  },
  {
   "cell_type": "code",
   "execution_count": 23,
   "id": "6efe7bca",
   "metadata": {},
   "outputs": [
    {
     "data": {
      "text/plain": [
       "tuple"
      ]
     },
     "execution_count": 23,
     "metadata": {},
     "output_type": "execute_result"
    }
   ],
   "source": [
    "n=(42,)\n",
    "type(n)"
   ]
  },
  {
   "cell_type": "code",
   "execution_count": 24,
   "id": "c7ad24b7",
   "metadata": {},
   "outputs": [
    {
     "data": {
      "text/plain": [
       "(42,)"
      ]
     },
     "execution_count": 24,
     "metadata": {},
     "output_type": "execute_result"
    }
   ],
   "source": [
    "n=[42]\n",
    "m=tuple(n)\n",
    "m"
   ]
  },
  {
   "cell_type": "code",
   "execution_count": null,
   "id": "c4ed1dd1",
   "metadata": {},
   "outputs": [],
   "source": [
    "15. How do you get a list value's form tuple? How do you get a tuple value's form list?"
   ]
  },
  {
   "cell_type": "code",
   "execution_count": 26,
   "id": "ddf329ea",
   "metadata": {},
   "outputs": [
    {
     "name": "stdout",
     "output_type": "stream",
     "text": [
      "<class 'tuple'>\n",
      "(4, 5, 'sad', 68.35) : <class 'list'>\n",
      "[4, 5, 'sad', 68.35] : <class 'tuple'>\n"
     ]
    }
   ],
   "source": [
    "a=(4,5,'sad',68.35)\n",
    "print(type(a))\n",
    "b= list(a)\n",
    "print(a, ':', type(b))\n",
    "c=tuple(b)\n",
    "print(b, ':', type(c))"
   ]
  },
  {
   "cell_type": "code",
   "execution_count": null,
   "id": "5d5493dd",
   "metadata": {},
   "outputs": [],
   "source": [
    "16. Variables that \"contain\" list values are not necessarily lists themselves. Instead, what do they contain?"
   ]
  },
  {
   "cell_type": "code",
   "execution_count": null,
   "id": "4233d245",
   "metadata": {},
   "outputs": [],
   "source": [
    "Ans. \n",
    "Variables that contain list can be a list or tuple."
   ]
  },
  {
   "cell_type": "code",
   "execution_count": 27,
   "id": "815d6566",
   "metadata": {},
   "outputs": [
    {
     "name": "stdout",
     "output_type": "stream",
     "text": [
      "<class 'list'>\n",
      "<class 'tuple'>\n"
     ]
    }
   ],
   "source": [
    "y=[[1,2],3,[5,6]]\n",
    "z=([1,8],4,[52,6])\n",
    "print(type(y))\n",
    "print(type(z))"
   ]
  },
  {
   "cell_type": "code",
   "execution_count": null,
   "id": "4e59af34",
   "metadata": {},
   "outputs": [],
   "source": [
    "17. How do you distinguish between copy.copy() and copy.deepcopy()?"
   ]
  },
  {
   "cell_type": "code",
   "execution_count": null,
   "id": "907b6c45",
   "metadata": {},
   "outputs": [],
   "source": [
    "Ans. The copy.copy() function will do a shallow copy of a list, \n",
    "while the copy.deepcopy() function will do a deep copy of a list \n",
    "i.e. only copy.deepcopy() will duplicate any lists inside the list."
   ]
  }
 ],
 "metadata": {
  "kernelspec": {
   "display_name": "Python 3 (ipykernel)",
   "language": "python",
   "name": "python3"
  },
  "language_info": {
   "codemirror_mode": {
    "name": "ipython",
    "version": 3
   },
   "file_extension": ".py",
   "mimetype": "text/x-python",
   "name": "python",
   "nbconvert_exporter": "python",
   "pygments_lexer": "ipython3",
   "version": "3.9.7"
  }
 },
 "nbformat": 4,
 "nbformat_minor": 5
}
