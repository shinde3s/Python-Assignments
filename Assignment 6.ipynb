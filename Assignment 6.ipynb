{
 "cells": [
  {
   "cell_type": "markdown",
   "id": "c97f4337",
   "metadata": {},
   "source": [
    "# Assignment 6"
   ]
  },
  {
   "cell_type": "code",
   "execution_count": null,
   "id": "8d173cbd",
   "metadata": {},
   "outputs": [],
   "source": [
    "1. What are escape characters, and how do you use them?"
   ]
  },
  {
   "cell_type": "code",
   "execution_count": null,
   "id": "b6ea4a27",
   "metadata": {},
   "outputs": [],
   "source": [
    "Ans: \n",
    "An escape character is a backslash \\ followed by the character you want to insert. To insert characters that are illegal in a string, use an escape character. \n",
    "An example of an illegal character is a double quote inside a string that is surrounded by double quotes."
   ]
  },
  {
   "cell_type": "code",
   "execution_count": null,
   "id": "609d9618",
   "metadata": {},
   "outputs": [],
   "source": [
    "2. What do the escape characters n and t stand for?"
   ]
  },
  {
   "cell_type": "code",
   "execution_count": null,
   "id": "74ce2749",
   "metadata": {},
   "outputs": [],
   "source": [
    "Ans:\n",
    "\\n stands for New line\n",
    "\\t stands for Tab"
   ]
  },
  {
   "cell_type": "code",
   "execution_count": 1,
   "id": "80e81b17",
   "metadata": {},
   "outputs": [
    {
     "name": "stdout",
     "output_type": "stream",
     "text": [
      "Stop!\n",
      "Wait a minute.\n",
      "Stop!\tWait a minute.\n"
     ]
    }
   ],
   "source": [
    "print(\"Stop!\\nWait a minute.\")\n",
    "print(\"Stop!\\tWait a minute.\")"
   ]
  },
  {
   "cell_type": "code",
   "execution_count": null,
   "id": "6949005a",
   "metadata": {},
   "outputs": [],
   "source": [
    "3. What is the way to include backslash characters in a string?"
   ]
  },
  {
   "cell_type": "code",
   "execution_count": null,
   "id": "ac33186a",
   "metadata": {},
   "outputs": [],
   "source": [
    "Ans. \n",
    "\\\\, but now we can print it directly."
   ]
  },
  {
   "cell_type": "code",
   "execution_count": 2,
   "id": "f951072a",
   "metadata": {},
   "outputs": [
    {
     "name": "stdout",
     "output_type": "stream",
     "text": [
      "Do you want cold water \\ hot water\n",
      "Do you want cold water \\ hot water\n",
      "1 \\ 2\n",
      "\\j\n"
     ]
    }
   ],
   "source": [
    "print(\"Do you want cold water \\\\ hot water\")\n",
    "print(\"Do you want cold water \\ hot water\")\n",
    "print(\"1 \\ 2\")\n",
    "print(\"\\j\")"
   ]
  },
  {
   "cell_type": "code",
   "execution_count": null,
   "id": "d6a86a4c",
   "metadata": {},
   "outputs": [],
   "source": [
    "4. The string \"Howl's Moving Castle\" is a correct value. \n",
    "Why isn't the single quote character in the word Howl's not escaped a problem?\n"
   ]
  },
  {
   "cell_type": "code",
   "execution_count": null,
   "id": "f2fca7f8",
   "metadata": {},
   "outputs": [],
   "source": [
    "Ans:\n",
    "Because we used double quotes to tell the start and end of string. \n",
    "If it was a single quote then it would have shown an error."
   ]
  },
  {
   "cell_type": "code",
   "execution_count": 3,
   "id": "473693fa",
   "metadata": {},
   "outputs": [
    {
     "name": "stdout",
     "output_type": "stream",
     "text": [
      "Howl's Moving Castle\n"
     ]
    }
   ],
   "source": [
    "print(\"Howl's Moving Castle\")"
   ]
  },
  {
   "cell_type": "code",
   "execution_count": 4,
   "id": "39f6b6c0",
   "metadata": {},
   "outputs": [
    {
     "ename": "SyntaxError",
     "evalue": "invalid syntax (Temp/ipykernel_10372/2399584445.py, line 1)",
     "output_type": "error",
     "traceback": [
      "\u001b[1;36m  File \u001b[1;32m\"C:\\Users\\Dushyant\\AppData\\Local\\Temp/ipykernel_10372/2399584445.py\"\u001b[1;36m, line \u001b[1;32m1\u001b[0m\n\u001b[1;33m    print('Howl's Moving Castle')\u001b[0m\n\u001b[1;37m                ^\u001b[0m\n\u001b[1;31mSyntaxError\u001b[0m\u001b[1;31m:\u001b[0m invalid syntax\n"
     ]
    }
   ],
   "source": [
    "print('Howl's Moving Castle')"
   ]
  },
  {
   "cell_type": "code",
   "execution_count": null,
   "id": "8f6f710b",
   "metadata": {},
   "outputs": [],
   "source": [
    "5. How do you write a string of newlines if you don't want to use the n character?"
   ]
  },
  {
   "cell_type": "code",
   "execution_count": 5,
   "id": "bf4eddcc",
   "metadata": {},
   "outputs": [
    {
     "name": "stdout",
     "output_type": "stream",
     "text": [
      "water\n",
      "has\n",
      "no\n",
      "colour\n"
     ]
    }
   ],
   "source": [
    "# Ans.\n",
    "print(\"\"\"water\n",
    "has\n",
    "no\n",
    "colour\"\"\")"
   ]
  },
  {
   "cell_type": "code",
   "execution_count": null,
   "id": "b2663e78",
   "metadata": {},
   "outputs": [],
   "source": [
    "6. What are the values of the given expressions?\n",
    "'Hello, world!'[1] 'Hello, world!'[0:5] 'Hello, world!'[:5] 'Hello, world!'[3:]"
   ]
  },
  {
   "cell_type": "code",
   "execution_count": 6,
   "id": "261b841f",
   "metadata": {},
   "outputs": [
    {
     "name": "stdout",
     "output_type": "stream",
     "text": [
      "e\n",
      "Hello\n",
      "Hello\n",
      "lo, world!\n"
     ]
    }
   ],
   "source": [
    "#Ans:\n",
    "print('Hello, world!'[1])\n",
    "print('Hello, world!'[0:5])\n",
    "print('Hello, world!'[:5])\n",
    "print('Hello, world!'[3:])"
   ]
  },
  {
   "cell_type": "code",
   "execution_count": null,
   "id": "6ca7e3ae",
   "metadata": {},
   "outputs": [],
   "source": [
    "7. What are the values of the following expressions?\n",
    "'Hello'.upper() 'Hello'.upper().isupper() 'Hello'.upper().lower()"
   ]
  },
  {
   "cell_type": "code",
   "execution_count": 7,
   "id": "695bda22",
   "metadata": {},
   "outputs": [
    {
     "name": "stdout",
     "output_type": "stream",
     "text": [
      "HELLO\n",
      "True\n",
      "hello\n"
     ]
    }
   ],
   "source": [
    "#Ans:\n",
    "print('Hello'.upper())\n",
    "print('Hello'.upper().isupper())\n",
    "print('Hello'.upper().lower())"
   ]
  },
  {
   "cell_type": "code",
   "execution_count": null,
   "id": "3fd1022d",
   "metadata": {},
   "outputs": [],
   "source": [
    "8. What are the values of the following expressions?\n",
    "'Remember, remember, the fifth of July.'.split() '-'.join('There can only one.'.split())"
   ]
  },
  {
   "cell_type": "code",
   "execution_count": 8,
   "id": "fc4fc2b3",
   "metadata": {},
   "outputs": [
    {
     "data": {
      "text/plain": [
       "['Remember,', 'remember,', 'the', 'fifth', 'of', 'July.']"
      ]
     },
     "execution_count": 8,
     "metadata": {},
     "output_type": "execute_result"
    }
   ],
   "source": [
    "'Remember, remember, the fifth of July.'.split()"
   ]
  },
  {
   "cell_type": "code",
   "execution_count": 9,
   "id": "fa04da36",
   "metadata": {},
   "outputs": [
    {
     "data": {
      "text/plain": [
       "'There-can-only-one.'"
      ]
     },
     "execution_count": 9,
     "metadata": {},
     "output_type": "execute_result"
    }
   ],
   "source": [
    "'-'.join('There can only one.'.split())"
   ]
  },
  {
   "cell_type": "code",
   "execution_count": null,
   "id": "8b59ca69",
   "metadata": {},
   "outputs": [],
   "source": [
    "9. What are the methods for right-justifying, left-justifying, and centering a string?"
   ]
  },
  {
   "cell_type": "code",
   "execution_count": 10,
   "id": "d1c8d514",
   "metadata": {},
   "outputs": [
    {
     "name": "stdout",
     "output_type": "stream",
     "text": [
      "--------------------------------------Games are not bad\n",
      "Games are not bad++++++++++++++++++++++++++++++++++++++\n",
      "***********Games are not bad************\n"
     ]
    }
   ],
   "source": [
    "# Ans.\n",
    "\n",
    "a='Games are not bad'\n",
    "\n",
    "print(a.rjust(55,'-'))\n",
    "print(a.ljust(55,'+'))\n",
    "print(a.center(40,'*'))"
   ]
  },
  {
   "cell_type": "code",
   "execution_count": null,
   "id": "7e0fca25",
   "metadata": {},
   "outputs": [],
   "source": [
    "10. What is the best way to remove whitespace characters from the start or end?"
   ]
  },
  {
   "cell_type": "code",
   "execution_count": 11,
   "id": "f1003f6a",
   "metadata": {},
   "outputs": [
    {
     "name": "stdout",
     "output_type": "stream",
     "text": [
      "Games are not bad !\n",
      "     Games are not bad !\n",
      "Games are not bad      !\n"
     ]
    }
   ],
   "source": [
    "# Ans.\n",
    "\n",
    "a='     Games are not bad     '\n",
    "print(a.strip(),'!')\n",
    "print(a.rstrip(),'!')\n",
    "print(a.lstrip(),'!')"
   ]
  }
 ],
 "metadata": {
  "kernelspec": {
   "display_name": "Python 3 (ipykernel)",
   "language": "python",
   "name": "python3"
  },
  "language_info": {
   "codemirror_mode": {
    "name": "ipython",
    "version": 3
   },
   "file_extension": ".py",
   "mimetype": "text/x-python",
   "name": "python",
   "nbconvert_exporter": "python",
   "pygments_lexer": "ipython3",
   "version": "3.9.7"
  }
 },
 "nbformat": 4,
 "nbformat_minor": 5
}
