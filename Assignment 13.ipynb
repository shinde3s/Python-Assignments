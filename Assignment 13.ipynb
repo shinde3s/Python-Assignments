{
 "cells": [
  {
   "cell_type": "markdown",
   "id": "b62039f0",
   "metadata": {},
   "source": [
    "# Assignment 13"
   ]
  },
  {
   "cell_type": "code",
   "execution_count": null,
   "id": "81caefcc",
   "metadata": {},
   "outputs": [],
   "source": [
    "1. What advantages do Excel spreadsheets have over CSV spreadsheets?"
   ]
  },
  {
   "cell_type": "code",
   "execution_count": null,
   "id": "5b65316b",
   "metadata": {},
   "outputs": [],
   "source": [
    "Ans: \n",
    "1. CSV files are comma seperated values. It is just like plain-text and does not have any formulas, styles, macros etc.\n",
    "While Excel files not only stores data but also we can do operrations and that data is also stored.\n",
    "2. Excel spreedsheets are good for sorting and analysing complex data."
   ]
  },
  {
   "cell_type": "code",
   "execution_count": null,
   "id": "4e7c4667",
   "metadata": {},
   "outputs": [],
   "source": [
    "2.What do you pass to csv.reader() and csv.writer() to create reader and writer objects?"
   ]
  },
  {
   "cell_type": "code",
   "execution_count": null,
   "id": "a80843d0",
   "metadata": {},
   "outputs": [],
   "source": [
    "Ans: \n",
    "We pass the 'iterable', it can be any object that returns a line, of input for each iteration,\n",
    "such as a file object or a list and we pass another argument dialect which is optional to create reader objects.\n",
    "For writer object we pass \"fileobj\" argument \n",
    "which can be any object that supports the file API and the optional \"dialect\" argument can also be passed."
   ]
  },
  {
   "cell_type": "code",
   "execution_count": null,
   "id": "3487ae67",
   "metadata": {},
   "outputs": [],
   "source": [
    "3. What modes do File objects for reader and writer objects need to be opened in?"
   ]
  },
  {
   "cell_type": "code",
   "execution_count": null,
   "id": "2adfa736",
   "metadata": {},
   "outputs": [],
   "source": [
    "Ans: reader object needs to be opened in \"r\" read mode and writer object needs to be opened in \"w\" write mode."
   ]
  },
  {
   "cell_type": "code",
   "execution_count": null,
   "id": "19087af5",
   "metadata": {},
   "outputs": [],
   "source": [
    "4. What method takes a list argument and writes it to a CSV file?"
   ]
  },
  {
   "cell_type": "code",
   "execution_count": null,
   "id": "ab48ee59",
   "metadata": {},
   "outputs": [],
   "source": [
    "Ans: writerow() and writerows()"
   ]
  },
  {
   "cell_type": "code",
   "execution_count": null,
   "id": "10351c1e",
   "metadata": {},
   "outputs": [],
   "source": [
    "5. What do the keyword arguments delimiter and line terminator do?"
   ]
  },
  {
   "cell_type": "code",
   "execution_count": null,
   "id": "938e41a2",
   "metadata": {},
   "outputs": [],
   "source": [
    "Ans: delimiter is used to seperate the words in the file. \n",
    "     Common delimiters are `,`(comma), ` `(space), `:` (colon) but we can use any character as per our need. \n",
    "     Line terminator as the name suggests is the end of line, by default it is a new line but we can change it."
   ]
  },
  {
   "cell_type": "code",
   "execution_count": null,
   "id": "c487994b",
   "metadata": {},
   "outputs": [],
   "source": [
    "6. What function takes a string of JSON data and returns a Python data structure?"
   ]
  },
  {
   "cell_type": "code",
   "execution_count": 1,
   "id": "6bd9031d",
   "metadata": {},
   "outputs": [
    {
     "name": "stdout",
     "output_type": "stream",
     "text": [
      "{\"Name\": \"Shishir Shinde\",\"Course\": \"Full stack data science\",\"Teacher\": \"Sudhanshu Kumar\"}\n",
      "<class 'str'>\n",
      "({'Name': 'Shishir Shinde', 'Course': 'Full stack data science', 'Teacher': 'Sudhanshu Kumar'},)\n",
      "<class 'tuple'>\n"
     ]
    }
   ],
   "source": [
    "#Ans: loads() method takes a string of JSON data and returns a Python data structure.\n",
    "{\"Name\": \"Shishir Shinde\",\"Course\": \"Full stack data science\",\"Teacher\": \"Sudhanshu Kumar\"}\n",
    "import json\n",
    "my_details_json ='''{\"Name\": \"Shishir Shinde\",\"Course\": \"Full stack data science\",\"Teacher\": \"Sudhanshu Kumar\"}'''\n",
    "print(my_details_json),\n",
    "print(format(type(my_details_json))),\n",
    "my_details = json.loads(my_details_json),\n",
    "print(my_details),\n",
    "print(format(type(my_details)))"
   ]
  },
  {
   "cell_type": "code",
   "execution_count": null,
   "id": "40a19d69",
   "metadata": {},
   "outputs": [],
   "source": [
    "7. What function takes a Python data structure and returns a string of JSON data?"
   ]
  },
  {
   "cell_type": "code",
   "execution_count": 2,
   "id": "3488d20e",
   "metadata": {},
   "outputs": [
    {
     "name": "stdout",
     "output_type": "stream",
     "text": [
      "{\"Name\": \"Shishir Shinde\",\"Course\": \"Full stack data science\",\"Teacher\": \"Sudhanshu Kumar\"}\n",
      "<class 'str'>\n",
      "('\"{\\\\\"Name\\\\\": \\\\\"Shishir Shinde\\\\\",\\\\\"Course\\\\\": \\\\\"Full stack data science\\\\\",\\\\\"Teacher\\\\\": \\\\\"Sudhanshu Kumar\\\\\"}\"',)\n",
      "<class 'tuple'>\n"
     ]
    }
   ],
   "source": [
    "#Ans: dumps() method takes a python data structure and returns a string of JSON data\n",
    "{\"Name\": \"Shishir Shinde\",\"Course\": \"Full stack data science\",\"Teacher\": \"Sudhanshu Kumar\"}\n",
    "import json\n",
    "my_details_json ='''{\"Name\": \"Shishir Shinde\",\"Course\": \"Full stack data science\",\"Teacher\": \"Sudhanshu Kumar\"}'''\n",
    "print(my_details_json),\n",
    "print(format(type(my_details_json))),\n",
    "my_details = json.dumps(my_details_json),\n",
    "print(my_details),\n",
    "print(format(type(my_details)))"
   ]
  },
  {
   "cell_type": "code",
   "execution_count": null,
   "id": "89210498",
   "metadata": {},
   "outputs": [],
   "source": []
  }
 ],
 "metadata": {
  "kernelspec": {
   "display_name": "Python 3 (ipykernel)",
   "language": "python",
   "name": "python3"
  },
  "language_info": {
   "codemirror_mode": {
    "name": "ipython",
    "version": 3
   },
   "file_extension": ".py",
   "mimetype": "text/x-python",
   "name": "python",
   "nbconvert_exporter": "python",
   "pygments_lexer": "ipython3",
   "version": "3.9.7"
  }
 },
 "nbformat": 4,
 "nbformat_minor": 5
}
