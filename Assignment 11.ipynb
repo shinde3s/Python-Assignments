{
 "cells": [
  {
   "cell_type": "markdown",
   "id": "8d02a1d2",
   "metadata": {},
   "source": [
    "# Assignment 11"
   ]
  },
  {
   "cell_type": "code",
   "execution_count": null,
   "id": "d192aaf5",
   "metadata": {},
   "outputs": [],
   "source": [
    "1. Create an assert statement that throws an AssertionError if the variable spam is a negative integer."
   ]
  },
  {
   "cell_type": "code",
   "execution_count": 2,
   "id": "7607dbd4",
   "metadata": {},
   "outputs": [
    {
     "ename": "AssertionError",
     "evalue": "spam is a negative integer",
     "output_type": "error",
     "traceback": [
      "\u001b[1;31m---------------------------------------------------------------------------\u001b[0m",
      "\u001b[1;31mAssertionError\u001b[0m                            Traceback (most recent call last)",
      "\u001b[1;32m~\\AppData\\Local\\Temp/ipykernel_6276/1871128449.py\u001b[0m in \u001b[0;36m<module>\u001b[1;34m\u001b[0m\n\u001b[0;32m      1\u001b[0m \u001b[1;31m#Ans:\u001b[0m\u001b[1;33m\u001b[0m\u001b[1;33m\u001b[0m\u001b[0m\n\u001b[0;32m      2\u001b[0m \u001b[0mspam\u001b[0m\u001b[1;33m=\u001b[0m \u001b[1;33m-\u001b[0m\u001b[1;36m55\u001b[0m\u001b[1;33m\u001b[0m\u001b[1;33m\u001b[0m\u001b[0m\n\u001b[1;32m----> 3\u001b[1;33m \u001b[1;32massert\u001b[0m \u001b[0mspam\u001b[0m \u001b[1;33m>\u001b[0m \u001b[1;36m0\u001b[0m \u001b[1;33m,\u001b[0m\u001b[1;34m\"spam is a negative integer\"\u001b[0m\u001b[1;33m\u001b[0m\u001b[1;33m\u001b[0m\u001b[0m\n\u001b[0m",
      "\u001b[1;31mAssertionError\u001b[0m: spam is a negative integer"
     ]
    }
   ],
   "source": [
    "#Ans:\n",
    "spam= -55\n",
    "assert spam > 0 ,\"spam is a negative integer\""
   ]
  },
  {
   "cell_type": "code",
   "execution_count": null,
   "id": "9ff89bcd",
   "metadata": {},
   "outputs": [],
   "source": [
    "2. Write an assert statement that triggers an AssertionError if the variables eggs and bacon contain\n",
    "strings that are the same as each other, even if their cases are different (that is hello and hello are \n",
    "considered the same and goodbye and GOODbye are also considered the same)."
   ]
  },
  {
   "cell_type": "code",
   "execution_count": 4,
   "id": "f22d8c18",
   "metadata": {},
   "outputs": [
    {
     "ename": "AssertionError",
     "evalue": "eggs and bacon can't be same",
     "output_type": "error",
     "traceback": [
      "\u001b[1;31m---------------------------------------------------------------------------\u001b[0m",
      "\u001b[1;31mAssertionError\u001b[0m                            Traceback (most recent call last)",
      "\u001b[1;32m~\\AppData\\Local\\Temp/ipykernel_6276/3367122759.py\u001b[0m in \u001b[0;36m<module>\u001b[1;34m\u001b[0m\n\u001b[0;32m      2\u001b[0m \u001b[0meggs\u001b[0m \u001b[1;33m=\u001b[0m \u001b[1;34m'hello'\u001b[0m\u001b[1;33m\u001b[0m\u001b[1;33m\u001b[0m\u001b[0m\n\u001b[0;32m      3\u001b[0m \u001b[0mbacon\u001b[0m \u001b[1;33m=\u001b[0m \u001b[1;34m'HEllo'\u001b[0m\u001b[1;33m\u001b[0m\u001b[1;33m\u001b[0m\u001b[0m\n\u001b[1;32m----> 4\u001b[1;33m \u001b[1;32massert\u001b[0m \u001b[0meggs\u001b[0m\u001b[1;33m.\u001b[0m\u001b[0mlower\u001b[0m\u001b[1;33m(\u001b[0m\u001b[1;33m)\u001b[0m\u001b[1;33m!=\u001b[0m \u001b[0mbacon\u001b[0m\u001b[1;33m.\u001b[0m\u001b[0mlower\u001b[0m\u001b[1;33m(\u001b[0m\u001b[1;33m)\u001b[0m \u001b[1;33m,\u001b[0m \u001b[1;34m\"eggs and bacon can't be same\"\u001b[0m\u001b[1;33m\u001b[0m\u001b[1;33m\u001b[0m\u001b[0m\n\u001b[0m",
      "\u001b[1;31mAssertionError\u001b[0m: eggs and bacon can't be same"
     ]
    }
   ],
   "source": [
    "#Ans:\n",
    "eggs = 'hello'\n",
    "bacon = 'HEllo'\n",
    "assert eggs.lower()!= bacon.lower() , \"eggs and bacon can't be same\""
   ]
  },
  {
   "cell_type": "code",
   "execution_count": null,
   "id": "1de4b5b4",
   "metadata": {},
   "outputs": [],
   "source": [
    "3. Create an assert statement that throws an AssertionError every time."
   ]
  },
  {
   "cell_type": "code",
   "execution_count": null,
   "id": "95968940",
   "metadata": {},
   "outputs": [],
   "source": [
    "#Ans:\n",
    "assert(False, 'This assertion always triggers.')"
   ]
  },
  {
   "cell_type": "code",
   "execution_count": null,
   "id": "5e650e93",
   "metadata": {},
   "outputs": [],
   "source": [
    "4. What are the two lines that must be present in your software in order to call logging.debug()?"
   ]
  },
  {
   "cell_type": "code",
   "execution_count": null,
   "id": "7de1085d",
   "metadata": {},
   "outputs": [],
   "source": [
    "Ans: To be able to call logging.debug(), you must have these two lines at the start of your program: \n",
    "    import logging logging.basicConfig(level=logging.DEBUG, format=' %(asctime)s - %(levelname)s - %(message)s')"
   ]
  },
  {
   "cell_type": "code",
   "execution_count": null,
   "id": "73bc8c08",
   "metadata": {},
   "outputs": [],
   "source": [
    "5. What are the two lines that your program must have in order to have logging.debug() send a\n",
    "logging message to a file named programLog.txt?"
   ]
  },
  {
   "cell_type": "code",
   "execution_count": null,
   "id": "5575d802",
   "metadata": {},
   "outputs": [],
   "source": [
    "Ans: import logging logging.basicConfig(filename='programLog.txt', level=logging.DEBUG, \n",
    "     format=' %(asctime)s - %(levelname)s - %(message)s')"
   ]
  },
  {
   "cell_type": "code",
   "execution_count": null,
   "id": "169fb9de",
   "metadata": {},
   "outputs": [],
   "source": [
    "6. What are the five levels of logging?"
   ]
  },
  {
   "cell_type": "code",
   "execution_count": null,
   "id": "43985a01",
   "metadata": {},
   "outputs": [],
   "source": [
    "Ans: \n",
    "The Five levels of Logging provided by python logging module are CRITICAL(), ERROR(), WARNING(), INFO(), DEBUG(), NOTSET(),\n",
    "    logging.debug() - variables state and small details,\n",
    "    logging.info() - general events, confirm a program is working,\n",
    "    logging.warning() - potiental problem to work on in the future,\n",
    "    logging.error() - record an error that caused program to fail to do something,\n",
    "    logging.critical() - fatal error that has caused\""
   ]
  },
  {
   "cell_type": "code",
   "execution_count": null,
   "id": "d3159c6d",
   "metadata": {},
   "outputs": [],
   "source": [
    "7. What line of code would you add to your software to disable all logging messages?"
   ]
  },
  {
   "cell_type": "code",
   "execution_count": null,
   "id": "cafd2083",
   "metadata": {},
   "outputs": [],
   "source": [
    "Ans: import logging,\n",
    "        logging.disable()"
   ]
  },
  {
   "cell_type": "code",
   "execution_count": null,
   "id": "4256c89c",
   "metadata": {},
   "outputs": [],
   "source": [
    "8.Why is using logging messages better than using print() to display the same message?"
   ]
  },
  {
   "cell_type": "code",
   "execution_count": null,
   "id": "73df027f",
   "metadata": {},
   "outputs": [],
   "source": [
    "Ans: We can disable the logging messages without removing the logging function \n",
    "     while we need to remove the print() statements.\n",
    "     Logging is used to keep records of everything like info, debug, error , warning e.t.c. \n",
    "     print can only diplay the output."
   ]
  },
  {
   "cell_type": "code",
   "execution_count": null,
   "id": "9fdd0ac8",
   "metadata": {},
   "outputs": [],
   "source": [
    "9. What are the differences between the Step Over, Step In, and Step Out buttons in the debugger?"
   ]
  },
  {
   "cell_type": "code",
   "execution_count": null,
   "id": "b8846658",
   "metadata": {},
   "outputs": [],
   "source": [
    "Ans:\n",
    "1. Step Over - It will execute the next line. But, if the next line is a function call, \n",
    "               then it will , as the name suggests, step over the code in function and pause at the return.\n",
    "2. Step In -  It is same as step over i.e. it will execute next line and pause.\n",
    "3. Step Out - It will cause the debugger to execute lines of code until it returns from the current function"
   ]
  },
  {
   "cell_type": "code",
   "execution_count": null,
   "id": "9b3240cf",
   "metadata": {},
   "outputs": [],
   "source": [
    "10.After you click Continue, when will the debugger stop ?"
   ]
  },
  {
   "cell_type": "code",
   "execution_count": null,
   "id": "f7a9a703",
   "metadata": {},
   "outputs": [],
   "source": [
    "Ans: It will continue running until it terminates or reaches a breakpoint."
   ]
  },
  {
   "cell_type": "code",
   "execution_count": null,
   "id": "54227190",
   "metadata": {},
   "outputs": [],
   "source": [
    "11. What is the concept of a breakpoint?"
   ]
  },
  {
   "cell_type": "code",
   "execution_count": null,
   "id": "0eb5d9d4",
   "metadata": {},
   "outputs": [],
   "source": [
    "Ans: It is a setting on a line of code that causes the debugger to pause when the program execution reaches the line."
   ]
  }
 ],
 "metadata": {
  "kernelspec": {
   "display_name": "Python 3 (ipykernel)",
   "language": "python",
   "name": "python3"
  },
  "language_info": {
   "codemirror_mode": {
    "name": "ipython",
    "version": 3
   },
   "file_extension": ".py",
   "mimetype": "text/x-python",
   "name": "python",
   "nbconvert_exporter": "python",
   "pygments_lexer": "ipython3",
   "version": "3.9.7"
  }
 },
 "nbformat": 4,
 "nbformat_minor": 5
}
