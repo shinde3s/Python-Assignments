{
 "cells": [
  {
   "cell_type": "markdown",
   "id": "b7e851cf",
   "metadata": {},
   "source": [
    "Assignment 1"
   ]
  },
  {
   "cell_type": "markdown",
   "id": "9c076274",
   "metadata": {},
   "source": [
    "1. In the below elements which of them are values or an expression? eg:- values can be integer or string and expressions will be mathematical operators.\n",
    "* 'hello' -87.8 - / + 6"
   ]
  },
  {
   "cell_type": "markdown",
   "id": "9f41fd8c",
   "metadata": {},
   "source": [
    "Ans: "
   ]
  },
  {
   "cell_type": "markdown",
   "id": "9f3d422d",
   "metadata": {},
   "source": [
    "Values: 'hello', -87.8, 6"
   ]
  },
  {
   "cell_type": "markdown",
   "id": "d3c68dc1",
   "metadata": {},
   "source": [
    "Expression: * , - , / , +"
   ]
  },
  {
   "cell_type": "markdown",
   "id": "072398c2",
   "metadata": {},
   "source": [
    "2. What is the difference between string and variable?"
   ]
  },
  {
   "cell_type": "raw",
   "id": "83f0599e",
   "metadata": {},
   "source": [
    "Ans. A string is a group of characters or a single character usually enclosed in Double quotes \" \" or single quotes ' '. It is a type of data. A variable is used to store of information."
   ]
  },
  {
   "cell_type": "markdown",
   "id": "e4fcfd15",
   "metadata": {},
   "source": [
    "3. Describe three different data types."
   ]
  },
  {
   "cell_type": "markdown",
   "id": "b65da1cd",
   "metadata": {},
   "source": [
    "Ans."
   ]
  },
  {
   "cell_type": "markdown",
   "id": "32e9136c",
   "metadata": {},
   "source": [
    "float() : float data type is floating point number (decimal values)."
   ]
  },
  {
   "cell_type": "markdown",
   "id": "3e0c4c5a",
   "metadata": {},
   "source": [
    "list() : list data type are used to store multiple items in a single variable. Lists are created using square brackets."
   ]
  },
  {
   "cell_type": "markdown",
   "id": "5f485966",
   "metadata": {},
   "source": [
    "complex() : complex data type is complex number represented as (real part) + (imaginary part)j."
   ]
  },
  {
   "cell_type": "markdown",
   "id": "f90668a8",
   "metadata": {},
   "source": [
    "4. What is an expression made up of? What do all expressions do?"
   ]
  },
  {
   "cell_type": "markdown",
   "id": "1a9dee3d",
   "metadata": {},
   "source": [
    "Ans. An expression is a combination of values, variables, operators, and calls to functions. Expressions need to be evaluated. If we ask Python to print an expression, the interpreter evaluates the expression and displays the result. e.g. print((2*a)+b) . Here (2*a)+b is the expression"
   ]
  },
  {
   "cell_type": "markdown",
   "id": "77225dd8",
   "metadata": {},
   "source": [
    "5. This assignment statements, like spam = 10. What is the difference between an expression and a statement?"
   ]
  },
  {
   "cell_type": "markdown",
   "id": "1a666274",
   "metadata": {},
   "source": [
    "Ans. An expression is a combination of values, variables, operators, and calls to functions. The interpreter evaluates for it. e.g. (2*a)+b"
   ]
  },
  {
   "cell_type": "markdown",
   "id": "e22e2d10",
   "metadata": {},
   "source": [
    "A statement is used to create a variable or display a value, no evaluation is involved. e.g. print()"
   ]
  },
  {
   "cell_type": "markdown",
   "id": "dd4efa4b",
   "metadata": {},
   "source": [
    "6. After running the following code, what does the variable bacon contain?\n",
    "bacon = 22 bacon + 1\n",
    "Ans. bacon = 22. Because bacon+1 is not stored in any variable."
   ]
  },
  {
   "cell_type": "code",
   "execution_count": 2,
   "id": "c3b90135",
   "metadata": {},
   "outputs": [
    {
     "data": {
      "text/plain": [
       "'spamspamspamspamspamspamspamspamspamspam'"
      ]
     },
     "execution_count": 2,
     "metadata": {},
     "output_type": "execute_result"
    }
   ],
   "source": [
    "#7. What should the values of the following two terms be?\n",
    "'spam' + 'spamspam' 'spam' * 3"
   ]
  },
  {
   "cell_type": "markdown",
   "id": "c30ea940",
   "metadata": {},
   "source": [
    "8. Why is eggs a valid variable name while 100 is invalid?"
   ]
  },
  {
   "cell_type": "markdown",
   "id": "56c662f4",
   "metadata": {},
   "source": [
    "Ans. Name of variable cannot start with a number but can be a string. Hence egg is a valid variable name while 100 is not."
   ]
  },
  {
   "cell_type": "markdown",
   "id": "9cc75313",
   "metadata": {},
   "source": [
    "9. What three functions can be used to get the integer, floating-point number, or string version of a value?"
   ]
  },
  {
   "cell_type": "code",
   "execution_count": null,
   "id": "080e4f38",
   "metadata": {},
   "outputs": [],
   "source": [
    "Ans."
   ]
  },
  {
   "cell_type": "code",
   "execution_count": null,
   "id": "55936f08",
   "metadata": {},
   "outputs": [],
   "source": [
    "int()"
   ]
  },
  {
   "cell_type": "code",
   "execution_count": null,
   "id": "136e9248",
   "metadata": {},
   "outputs": [],
   "source": [
    "float()"
   ]
  },
  {
   "cell_type": "code",
   "execution_count": null,
   "id": "c013d633",
   "metadata": {},
   "outputs": [],
   "source": [
    "str()"
   ]
  },
  {
   "cell_type": "code",
   "execution_count": null,
   "id": "8da62f7e",
   "metadata": {},
   "outputs": [],
   "source": [
    "10. Why does this expression cause an error? How can you fix it?\n",
    "'I have eaten ' + 99 + ' burritos.'\n",
    "Ans. Cannot concatenate a string and an integer. Convert the number 99 into string which can be concatenated.\n",
    "'I have eaten ' + '99' + ' burritos.' OR\n",
    "'I have eaten ' + str(99) + ' burritos.'"
   ]
  },
  {
   "cell_type": "code",
   "execution_count": 3,
   "id": "5163450e",
   "metadata": {},
   "outputs": [
    {
     "name": "stdout",
     "output_type": "stream",
     "text": [
      "I have eaten 99 burritos.\n",
      "I have eaten 99 burritos.\n"
     ]
    }
   ],
   "source": [
    "print('I have eaten ' + '99' + ' burritos.')\n",
    "print('I have eaten ' + str(99) + ' burritos.')"
   ]
  }
 ],
 "metadata": {
  "kernelspec": {
   "display_name": "Python 3 (ipykernel)",
   "language": "python",
   "name": "python3"
  },
  "language_info": {
   "codemirror_mode": {
    "name": "ipython",
    "version": 3
   },
   "file_extension": ".py",
   "mimetype": "text/x-python",
   "name": "python",
   "nbconvert_exporter": "python",
   "pygments_lexer": "ipython3",
   "version": "3.9.7"
  }
 },
 "nbformat": 4,
 "nbformat_minor": 5
}
