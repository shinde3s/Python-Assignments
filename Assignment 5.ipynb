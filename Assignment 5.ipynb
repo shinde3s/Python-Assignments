{
 "cells": [
  {
   "cell_type": "markdown",
   "id": "05029ae6",
   "metadata": {},
   "source": [
    "# Assignment 5"
   ]
  },
  {
   "cell_type": "code",
   "execution_count": null,
   "id": "e11f267e",
   "metadata": {},
   "outputs": [],
   "source": [
    "1. What does an empty dictionary's code look like?"
   ]
  },
  {
   "cell_type": "code",
   "execution_count": null,
   "id": "b6daa8bc",
   "metadata": {},
   "outputs": [],
   "source": [
    "Ans. \n",
    "An empty dictionary is often represented by two empty curly brackets. d = {} or d = dict()"
   ]
  },
  {
   "cell_type": "code",
   "execution_count": 1,
   "id": "975ac578",
   "metadata": {},
   "outputs": [
    {
     "name": "stdout",
     "output_type": "stream",
     "text": [
      "a :  {}\n",
      "b :  {}\n"
     ]
    }
   ],
   "source": [
    "# Ans.\n",
    "a=dict()\n",
    "print(\"a : \", a)\n",
    "            #OR\n",
    "b={}\n",
    "print(\"b : \", b)"
   ]
  },
  {
   "cell_type": "code",
   "execution_count": null,
   "id": "4f855188",
   "metadata": {},
   "outputs": [],
   "source": [
    "2. What is the value of a dictionary value with the key 'foo' and the value 42?"
   ]
  },
  {
   "cell_type": "code",
   "execution_count": 2,
   "id": "ff39ddf6",
   "metadata": {},
   "outputs": [
    {
     "data": {
      "text/plain": [
       "dict_values(['42'])"
      ]
     },
     "execution_count": 2,
     "metadata": {},
     "output_type": "execute_result"
    }
   ],
   "source": [
    "d = {'foo':'42'}\n",
    "d.values()"
   ]
  },
  {
   "cell_type": "code",
   "execution_count": null,
   "id": "203bcfdb",
   "metadata": {},
   "outputs": [],
   "source": [
    "3. What is the most significant distinction between a dictionary and a list?"
   ]
  },
  {
   "cell_type": "code",
   "execution_count": null,
   "id": "ba65ea81",
   "metadata": {},
   "outputs": [],
   "source": [
    "Ans:\n",
    "list is represented by [] brackets while dictionary is represented by {} brackets.\n",
    "list has only values, dictionary has keys and value pair.\n",
    "the items stored in dictionary are unordered, in list items are ordered"
   ]
  },
  {
   "cell_type": "code",
   "execution_count": null,
   "id": "74ecf4f8",
   "metadata": {},
   "outputs": [],
   "source": [
    "4. What happens if you try to access spam['foo'] if spam is {'bar': 100}?"
   ]
  },
  {
   "cell_type": "code",
   "execution_count": null,
   "id": "2eab40ba",
   "metadata": {},
   "outputs": [],
   "source": [
    "Ans:\n",
    "It will give an error, as there is no key 'foo' present in the dict"
   ]
  },
  {
   "cell_type": "code",
   "execution_count": null,
   "id": "7e1b698c",
   "metadata": {},
   "outputs": [],
   "source": [
    "5. If a dictionary is stored in spam, \n",
    "what is the difference between the expressions 'cat' in spam and 'cat' in spam.keys()?"
   ]
  },
  {
   "cell_type": "code",
   "execution_count": null,
   "id": "f271726f",
   "metadata": {},
   "outputs": [],
   "source": [
    "Ans:\n",
    "The expression 'cat' in spam will check if it is a key in dictonary,  while 'cat' in spam.keys() does the same."
   ]
  },
  {
   "cell_type": "code",
   "execution_count": null,
   "id": "01a161ca",
   "metadata": {},
   "outputs": [],
   "source": [
    "6. If a dictionary is stored in spam, \n",
    "what is the difference between the expressions 'cat' in spam and 'cat' in spam.values()?"
   ]
  },
  {
   "cell_type": "code",
   "execution_count": null,
   "id": "a5ece5fb",
   "metadata": {},
   "outputs": [],
   "source": [
    "Ans: \n",
    "The expression 'cat' in spam will check if it is a key in the dictionary, \n",
    "while 'cat' in spam.values() checks whether there is a value 'cat' for one of the keys in spam."
   ]
  },
  {
   "cell_type": "code",
   "execution_count": null,
   "id": "dca4278d",
   "metadata": {},
   "outputs": [],
   "source": [
    "7. What is a shortcut for the following code?\n",
    "if 'color' not in spam: spam['color'] = 'black'"
   ]
  },
  {
   "cell_type": "code",
   "execution_count": null,
   "id": "30c96953",
   "metadata": {},
   "outputs": [],
   "source": [
    "Ans:\n",
    "spam['color'] = 'black' OR\n",
    "spam.setdefault('color','black')"
   ]
  },
  {
   "cell_type": "code",
   "execution_count": null,
   "id": "e3ff09e4",
   "metadata": {},
   "outputs": [],
   "source": [
    "8. How do you \"pretty print\" dictionary values using which module and function?"
   ]
  },
  {
   "cell_type": "code",
   "execution_count": null,
   "id": "3f3694af",
   "metadata": {},
   "outputs": [],
   "source": [
    "Ans:\n",
    "by using pprint() function pprint module"
   ]
  },
  {
   "cell_type": "code",
   "execution_count": null,
   "id": "6c98105c",
   "metadata": {},
   "outputs": [],
   "source": []
  },
  {
   "cell_type": "code",
   "execution_count": null,
   "id": "9ebb71a8",
   "metadata": {},
   "outputs": [],
   "source": []
  },
  {
   "cell_type": "code",
   "execution_count": null,
   "id": "897dbbb2",
   "metadata": {},
   "outputs": [],
   "source": []
  }
 ],
 "metadata": {
  "kernelspec": {
   "display_name": "Python 3 (ipykernel)",
   "language": "python",
   "name": "python3"
  },
  "language_info": {
   "codemirror_mode": {
    "name": "ipython",
    "version": 3
   },
   "file_extension": ".py",
   "mimetype": "text/x-python",
   "name": "python",
   "nbconvert_exporter": "python",
   "pygments_lexer": "ipython3",
   "version": "3.9.7"
  }
 },
 "nbformat": 4,
 "nbformat_minor": 5
}
