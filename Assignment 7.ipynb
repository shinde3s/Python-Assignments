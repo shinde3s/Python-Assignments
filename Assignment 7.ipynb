{
 "cells": [
  {
   "cell_type": "markdown",
   "id": "9a3def1c",
   "metadata": {},
   "source": [
    "# Assignment 7"
   ]
  },
  {
   "cell_type": "code",
   "execution_count": null,
   "id": "32deacaa",
   "metadata": {},
   "outputs": [],
   "source": [
    "1. What is the name of the feature responsible for generating Regex objects?"
   ]
  },
  {
   "cell_type": "code",
   "execution_count": null,
   "id": "46a69fbc",
   "metadata": {},
   "outputs": [],
   "source": [
    "Ans. re.compile() returns Regex objects"
   ]
  },
  {
   "cell_type": "code",
   "execution_count": null,
   "id": "f1f8f569",
   "metadata": {},
   "outputs": [],
   "source": [
    "2. Why do raw strings often appear in Regex objects?"
   ]
  },
  {
   "cell_type": "code",
   "execution_count": null,
   "id": "9fa81bb4",
   "metadata": {},
   "outputs": [],
   "source": [
    "Ans. Regular expressions use the backslash character ('') to indicate special forms (Metacharacters) \n",
    "or to allow special characters (speical sequences) to be used without invoking their special meaning. \n",
    "This collides with Python’s usage of the same character for the same purpose in string literals. \n",
    "Hence, Raw strings are used (e.g. r\"\\n\") so that backslashes do not have to be escaped."
   ]
  },
  {
   "cell_type": "code",
   "execution_count": null,
   "id": "5a18ea51",
   "metadata": {},
   "outputs": [],
   "source": [
    "3. What is the return value of the search() method?"
   ]
  },
  {
   "cell_type": "code",
   "execution_count": null,
   "id": "24970f8a",
   "metadata": {},
   "outputs": [],
   "source": [
    "Ans. The search() method searches a string for a specified value, and returns the position of the match. \n",
    "The search value can be string or a regular expression. This method returns -1 if no match is found.\n"
   ]
  },
  {
   "cell_type": "code",
   "execution_count": null,
   "id": "5e58398e",
   "metadata": {},
   "outputs": [],
   "source": [
    "4. From a Match item, how do you get the actual strings that match the pattern?"
   ]
  },
  {
   "cell_type": "code",
   "execution_count": null,
   "id": "42bb2fee",
   "metadata": {},
   "outputs": [],
   "source": [
    "Ans. For Matched items group() methods returns actual strings that match the pattern."
   ]
  },
  {
   "cell_type": "code",
   "execution_count": 1,
   "id": "eb9278de",
   "metadata": {},
   "outputs": [
    {
     "name": "stdout",
     "output_type": "stream",
     "text": [
      "<re.Match object; span=(7, 10), match='How'>\n",
      "How\n"
     ]
    }
   ],
   "source": [
    "import re\n",
    "a=re.search(\"How\", \"Hello! How may I help you?\")\n",
    "print(a)\n",
    "print(a.group())"
   ]
  },
  {
   "cell_type": "code",
   "execution_count": null,
   "id": "ad9d734b",
   "metadata": {},
   "outputs": [],
   "source": [
    "5. In the regex which created from the r'(\\d\\d\\d)-(\\d\\d\\d-\\d\\d\\d\\d)', what does group zero cover? Group 2? Group 1?"
   ]
  },
  {
   "cell_type": "code",
   "execution_count": 2,
   "id": "9412ef4d",
   "metadata": {},
   "outputs": [
    {
     "name": "stdout",
     "output_type": "stream",
     "text": [
      "all groups:  ('489', '164-3479')\n",
      "group 0:  489-164-3479\n",
      "group 1:  489\n",
      "group 2:  164-3479\n"
     ]
    }
   ],
   "source": [
    "import re\n",
    "sampleRegex = re.compile(r'(\\d\\d\\d)-(\\d\\d\\d-\\d\\d\\d\\d)')\n",
    "s = sampleRegex.search('My example is 489-164-3479, some random number.')\n",
    "print(\"all groups: \", s.groups())\n",
    "print(\"group 0: \", s.group()) \n",
    "print(\"group 1: \", s.group(1))\n",
    "print(\"group 2: \", s.group(2))"
   ]
  },
  {
   "cell_type": "code",
   "execution_count": null,
   "id": "9670b751",
   "metadata": {},
   "outputs": [],
   "source": [
    "6. In standard expression syntax, parentheses and intervals have distinct meanings. \n",
    "   How can you tell a regex that you want it to fit real parentheses and periods?"
   ]
  },
  {
   "cell_type": "code",
   "execution_count": null,
   "id": "ac491119",
   "metadata": {},
   "outputs": [],
   "source": [
    "Ans.\n",
    "Parentheses groups the regular expressions and period is a wildcard charachter \n",
    "and if we want to tell a regex that you want it to fit real parantheses and periods \n",
    "we can use the escape charachter e.g. \\( , \\), \\.."
   ]
  },
  {
   "cell_type": "code",
   "execution_count": null,
   "id": "841ed219",
   "metadata": {},
   "outputs": [],
   "source": [
    "7. The findall() method returns a string list or a list of string tuples. What causes it to return one of the two options?"
   ]
  },
  {
   "cell_type": "code",
   "execution_count": null,
   "id": "a2a5e334",
   "metadata": {},
   "outputs": [],
   "source": [
    "Ans. If the regular expression has groups then findall() will return a list of those groups, in the form of string tuples. \n",
    "On the other hand if there are no groups then it will return the list of matched strings."
   ]
  },
  {
   "cell_type": "code",
   "execution_count": null,
   "id": "eafc10e4",
   "metadata": {},
   "outputs": [],
   "source": [
    "8. In standard expressions, what does the | character mean?"
   ]
  },
  {
   "cell_type": "code",
   "execution_count": null,
   "id": "0ca73f42",
   "metadata": {},
   "outputs": [],
   "source": [
    "Ans. In standard expression, | character means a bitwise OR operator."
   ]
  },
  {
   "cell_type": "code",
   "execution_count": null,
   "id": "cbfbe826",
   "metadata": {},
   "outputs": [],
   "source": [
    "9. In regular expressions, what does the character stand for?"
   ]
  },
  {
   "cell_type": "code",
   "execution_count": null,
   "id": "ad4d3b12",
   "metadata": {},
   "outputs": [],
   "source": [
    "Ans. In regular expressions a character is a letter, a number, or symbols like an underscore"
   ]
  },
  {
   "cell_type": "code",
   "execution_count": null,
   "id": "8bd9afdd",
   "metadata": {},
   "outputs": [],
   "source": [
    "10.In regular expressions, what is the difference between the + and * characters?"
   ]
  },
  {
   "cell_type": "code",
   "execution_count": null,
   "id": "77c64b5e",
   "metadata": {},
   "outputs": [],
   "source": [
    "Ans. In regular expressions anything which preceeds the symbol should be capured with the condition as follows\n",
    "\n",
    "for + the preceeding charachter or condition should occur 1 or more times in the string,\n",
    "\n",
    "for * the preceeding charachter or condition should occur 0 or more times in the string."
   ]
  },
  {
   "cell_type": "code",
   "execution_count": null,
   "id": "988512a0",
   "metadata": {},
   "outputs": [],
   "source": [
    "11. What is the difference between {4} and {4,5} in regular expression?"
   ]
  },
  {
   "cell_type": "code",
   "execution_count": null,
   "id": "98ed36a5",
   "metadata": {},
   "outputs": [],
   "source": [
    "Ans. {4} : the preceeding character or condition will be repeated exactly 4 times. \n",
    "    {4,5} : the preceeding character or condition will be repeated 4 to 5 times depending on the ocurrence in the string."
   ]
  },
  {
   "cell_type": "code",
   "execution_count": null,
   "id": "7028bc0c",
   "metadata": {},
   "outputs": [],
   "source": [
    "12. What do you mean by the \\d, \\w, and \\s shorthand character classes signify in regular expressions?"
   ]
  },
  {
   "cell_type": "code",
   "execution_count": null,
   "id": "4f5a452e",
   "metadata": {},
   "outputs": [],
   "source": [
    "Ans.\n",
    "    \\w Matches a word character equivalent to [a-zA-Z0-9_]\n",
    "    \\d Matches digit character equivalent to [0-9]\n",
    "    \\s Matches whitespace character (space, tab, newline, etc.)"
   ]
  },
  {
   "cell_type": "code",
   "execution_count": null,
   "id": "4baf3e55",
   "metadata": {},
   "outputs": [],
   "source": [
    "13. What do means by \\D, \\W, and \\S shorthand character classes signify in regular expressions?"
   ]
  },
  {
   "cell_type": "code",
   "execution_count": null,
   "id": "ad837c34",
   "metadata": {},
   "outputs": [],
   "source": [
    "Ans.\n",
    "    \\W Matches any non-alphanumeric character equivalent to [^a-zA-Z0-9_] i.e. every thing other than what \\w includes.\n",
    "    \\D Matches any non-digit character, this is equivalent to the set class [^0-9] i.e. every thing other than what \\d includes.\n",
    "    \\S Matches any non-whitespace character i.e. every thing other than what \\s includes."
   ]
  },
  {
   "cell_type": "code",
   "execution_count": null,
   "id": "e018fe74",
   "metadata": {},
   "outputs": [],
   "source": [
    "14. What is the difference between .*? and .*?"
   ]
  },
  {
   "cell_type": "code",
   "execution_count": null,
   "id": "accbb6b8",
   "metadata": {},
   "outputs": [],
   "source": [
    "Ans. The wildcard charachter when used as .* executes a greedy mode where it returns the longest string that meets the condition and when used as .*? executes a non greedy mode \n",
    "where it returns the shortest string that meets the condition."
   ]
  },
  {
   "cell_type": "code",
   "execution_count": null,
   "id": "e6279c37",
   "metadata": {},
   "outputs": [],
   "source": [
    "15. What is the syntax for matching both numbers and lowercase letters with a character class?"
   ]
  },
  {
   "cell_type": "code",
   "execution_count": null,
   "id": "e9f01989",
   "metadata": {},
   "outputs": [],
   "source": [
    "Ans. The syntax for matching both numbers and lowercase letters with a character class is [0-9a-z]"
   ]
  },
  {
   "cell_type": "code",
   "execution_count": null,
   "id": "735a8a0c",
   "metadata": {},
   "outputs": [],
   "source": [
    "16. What is the procedure for making a normal expression in regax case insensitive?"
   ]
  },
  {
   "cell_type": "code",
   "execution_count": null,
   "id": "501a890f",
   "metadata": {},
   "outputs": [],
   "source": [
    "Ans. we can pass an 2nd argument re.IGNORECASE in re.compile() as a flag to make a noraml expression case insensitive."
   ]
  },
  {
   "cell_type": "code",
   "execution_count": null,
   "id": "a7f2f46a",
   "metadata": {},
   "outputs": [],
   "source": [
    "17. What does the . character normally match? What does it match if re.DOTALL is passed as 2nd argument in re.compile()?"
   ]
  },
  {
   "cell_type": "code",
   "execution_count": null,
   "id": "d73077c1",
   "metadata": {},
   "outputs": [],
   "source": [
    "Ans. While working with multi-line string the wildcard (.) character matches everything in input except newline character \\n. By passing re.DOTALL as a flag to re.compile(), \n",
    "you can make the dot character match all characters, including the newline character."
   ]
  },
  {
   "cell_type": "code",
   "execution_count": null,
   "id": "4527aa86",
   "metadata": {},
   "outputs": [],
   "source": [
    "18. If numReg = re.compile(r'\\d+'), what will numRegex.sub('X', '11 drummers, 10 pipers, five rings, 4 hen') return?"
   ]
  },
  {
   "cell_type": "code",
   "execution_count": null,
   "id": "5c905bd8",
   "metadata": {},
   "outputs": [],
   "source": [
    "Ans. It will replace the 1 or more digits in the string by the charachter X. \n",
    "The output will be 'X drummers, X pipers, five rings, X hen'"
   ]
  },
  {
   "cell_type": "code",
   "execution_count": 3,
   "id": "9bb5da70",
   "metadata": {},
   "outputs": [
    {
     "data": {
      "text/plain": [
       "'X drummers, X pipers, five rings, X hen'"
      ]
     },
     "execution_count": 3,
     "metadata": {},
     "output_type": "execute_result"
    }
   ],
   "source": [
    "import re\n",
    "numReg = re.compile(r'\\d+')\n",
    "numReg.sub('X', '11 drummers, 10 pipers, five rings, 4 hen')"
   ]
  },
  {
   "cell_type": "code",
   "execution_count": null,
   "id": "215609e6",
   "metadata": {},
   "outputs": [],
   "source": [
    "19. What does passing re.VERBOSE as the 2nd argument to re.compile() allow to do?"
   ]
  },
  {
   "cell_type": "code",
   "execution_count": null,
   "id": "9378d3c0",
   "metadata": {},
   "outputs": [],
   "source": [
    "Ans. re.VERBOSE will allow to add whitespace and comments to string passed to re.compile()"
   ]
  },
  {
   "cell_type": "code",
   "execution_count": null,
   "id": "db3aeb47",
   "metadata": {},
   "outputs": [],
   "source": [
    "20. How would you write a regex that match a number with comma for every three digits? It must match the given following:\n",
    "\n",
    "'42'\n",
    "'1,234'\n",
    "'6,368,745'\n",
    "but not the following:\n",
    "'12,34,567' (which has only two digits between the commas)\n",
    "'1234' (which lacks commas)"
   ]
  },
  {
   "cell_type": "code",
   "execution_count": 4,
   "id": "b9e12aa5",
   "metadata": {},
   "outputs": [
    {
     "name": "stdout",
     "output_type": "stream",
     "text": [
      "<re.Match object; span=(0, 2), match='42'>\n",
      "<re.Match object; span=(0, 5), match='1,234'>\n",
      "<re.Match object; span=(0, 9), match='6,368,745'>\n",
      "None\n",
      "None\n"
     ]
    }
   ],
   "source": [
    "#Ans.\n",
    "import re\n",
    "\n",
    "pattern = re.compile(r\"^\\d{1,3}(,\\d{3})*$\")\n",
    "\n",
    "for i in  ['42','1,234', '6,368,745','12,34,567','1234']:\n",
    "    print(pattern.match(i))"
   ]
  },
  {
   "cell_type": "code",
   "execution_count": null,
   "id": "66698dc4",
   "metadata": {},
   "outputs": [],
   "source": [
    "21. How would you write a regex that matches the full name of someone whose last name is Watanabe? You can assume that the first name that comes before it will always be one word that begins with a capital letter. The regex must match the following:\n",
    "\n",
    "'Haruto Watanabe'\n",
    "'Alice Watanabe'\n",
    "'RoboCop Watanabe'\n",
    "but not the following:\n",
    "'haruto Watanabe' (where the first name is not capitalized)\n",
    "'Mr. Watanabe' (where the preceding word has a nonletter character)\n",
    "'Watanabe' (which has no first name)\n",
    "'Haruto watanabe' (where Watanabe is not capitalized)`"
   ]
  },
  {
   "cell_type": "code",
   "execution_count": 5,
   "id": "51ca1da7",
   "metadata": {},
   "outputs": [
    {
     "name": "stdout",
     "output_type": "stream",
     "text": [
      "<re.Match object; span=(0, 15), match='Haruto Watanabe'>\n",
      "<re.Match object; span=(0, 14), match='Alice Watanabe'>\n",
      "<re.Match object; span=(0, 16), match='RoboCop Watanabe'>\n",
      "None\n",
      "None\n",
      "None\n",
      "None\n",
      "None\n"
     ]
    }
   ],
   "source": [
    "#Ans.\n",
    "import re\n",
    "\n",
    "pattern = re.compile(r\"[A-Z]\\w* Watanabe$\")\n",
    "\n",
    "for i in  ['Haruto Watanabe','Alice Watanabe','RoboCop Watanabe','haruto Watanabe','Mr. Watanabe','Watanabe','Haruto watanabe', 'Watanabe Uzumaki']:\n",
    "    print(pattern.search(i))"
   ]
  },
  {
   "cell_type": "code",
   "execution_count": null,
   "id": "f7123bd3",
   "metadata": {},
   "outputs": [],
   "source": [
    "22. How would you write a regex that matches a sentence where the first word is either Alice, Bob, or Carol; the second word is either eats, pets, or throws; the third word is apples, cats, or baseballs; and the sentence ends with a period? This regex should be case-insensitive. It must match the following:\n",
    "\n",
    "'Alice eats apples.'\n",
    "'Bob pets cats.'\n",
    "'Carol throws baseballs.'\n",
    "'Alice throws Apples.'\n",
    "'BOB EATS CATS.'\n",
    "but not the following:\n",
    "'RoboCop eats apples.'\n",
    "'ALICE THROWS FOOTBALLS.'\n",
    "'Carol eats 7 cats.'"
   ]
  },
  {
   "cell_type": "code",
   "execution_count": 6,
   "id": "2cb4562d",
   "metadata": {},
   "outputs": [
    {
     "name": "stdout",
     "output_type": "stream",
     "text": [
      "<re.Match object; span=(0, 18), match='Alice eats apples.'>\n",
      "<re.Match object; span=(0, 14), match='Bob pets cats.'>\n",
      "<re.Match object; span=(0, 23), match='Carol throws baseballs.'>\n",
      "<re.Match object; span=(0, 20), match='Alice throws Apples.'>\n",
      "<re.Match object; span=(0, 14), match='BOB EATS CATS.'>\n",
      "None\n",
      "None\n",
      "None\n"
     ]
    }
   ],
   "source": [
    "#Ans\n",
    "import re\n",
    "\n",
    "pattern = re.compile(r\"(Alice|Bob|Carol) (eats|pets|throws) (apples|cats|baseballs)\\.$\", re.IGNORECASE)\n",
    "\n",
    "for i in  ['Alice eats apples.','Bob pets cats.','Carol throws baseballs.','Alice throws Apples.','BOB EATS CATS.','RoboCop eats apples.','ALICE THROWS FOOTBALLS.','Carol eats 7 cats.']:\n",
    "    print(pattern.match(i))"
   ]
  },
  {
   "cell_type": "code",
   "execution_count": null,
   "id": "31dd3d21",
   "metadata": {},
   "outputs": [],
   "source": []
  },
  {
   "cell_type": "code",
   "execution_count": null,
   "id": "788066b2",
   "metadata": {},
   "outputs": [],
   "source": []
  },
  {
   "cell_type": "code",
   "execution_count": null,
   "id": "99b91096",
   "metadata": {},
   "outputs": [],
   "source": []
  },
  {
   "cell_type": "code",
   "execution_count": null,
   "id": "eec183e6",
   "metadata": {},
   "outputs": [],
   "source": []
  },
  {
   "cell_type": "code",
   "execution_count": null,
   "id": "b9f356b5",
   "metadata": {},
   "outputs": [],
   "source": []
  },
  {
   "cell_type": "code",
   "execution_count": null,
   "id": "3658959c",
   "metadata": {},
   "outputs": [],
   "source": []
  },
  {
   "cell_type": "code",
   "execution_count": null,
   "id": "0a7503f7",
   "metadata": {},
   "outputs": [],
   "source": []
  },
  {
   "cell_type": "code",
   "execution_count": null,
   "id": "33a01d45",
   "metadata": {},
   "outputs": [],
   "source": []
  },
  {
   "cell_type": "code",
   "execution_count": null,
   "id": "ce13998a",
   "metadata": {},
   "outputs": [],
   "source": []
  },
  {
   "cell_type": "code",
   "execution_count": null,
   "id": "a3133abf",
   "metadata": {},
   "outputs": [],
   "source": []
  },
  {
   "cell_type": "code",
   "execution_count": null,
   "id": "a9ef4d13",
   "metadata": {},
   "outputs": [],
   "source": []
  },
  {
   "cell_type": "code",
   "execution_count": null,
   "id": "ad407bba",
   "metadata": {},
   "outputs": [],
   "source": []
  },
  {
   "cell_type": "code",
   "execution_count": null,
   "id": "a4ae1b0f",
   "metadata": {},
   "outputs": [],
   "source": []
  },
  {
   "cell_type": "code",
   "execution_count": null,
   "id": "d23d8889",
   "metadata": {},
   "outputs": [],
   "source": []
  },
  {
   "cell_type": "code",
   "execution_count": null,
   "id": "8de8dae4",
   "metadata": {},
   "outputs": [],
   "source": []
  },
  {
   "cell_type": "code",
   "execution_count": null,
   "id": "d6fa518a",
   "metadata": {},
   "outputs": [],
   "source": []
  },
  {
   "cell_type": "code",
   "execution_count": null,
   "id": "750dc56a",
   "metadata": {},
   "outputs": [],
   "source": []
  },
  {
   "cell_type": "code",
   "execution_count": null,
   "id": "7aac5e8d",
   "metadata": {},
   "outputs": [],
   "source": []
  },
  {
   "cell_type": "code",
   "execution_count": null,
   "id": "5b13beb7",
   "metadata": {},
   "outputs": [],
   "source": []
  },
  {
   "cell_type": "code",
   "execution_count": null,
   "id": "3176f2c3",
   "metadata": {},
   "outputs": [],
   "source": []
  },
  {
   "cell_type": "code",
   "execution_count": null,
   "id": "60aae883",
   "metadata": {},
   "outputs": [],
   "source": []
  },
  {
   "cell_type": "code",
   "execution_count": null,
   "id": "c43943bb",
   "metadata": {},
   "outputs": [],
   "source": []
  },
  {
   "cell_type": "code",
   "execution_count": null,
   "id": "76de6385",
   "metadata": {},
   "outputs": [],
   "source": []
  },
  {
   "cell_type": "code",
   "execution_count": null,
   "id": "9037efbc",
   "metadata": {},
   "outputs": [],
   "source": []
  },
  {
   "cell_type": "code",
   "execution_count": null,
   "id": "5f1290f6",
   "metadata": {},
   "outputs": [],
   "source": []
  },
  {
   "cell_type": "code",
   "execution_count": null,
   "id": "89fa52a8",
   "metadata": {},
   "outputs": [],
   "source": []
  },
  {
   "cell_type": "code",
   "execution_count": null,
   "id": "48cfec7c",
   "metadata": {},
   "outputs": [],
   "source": []
  },
  {
   "cell_type": "code",
   "execution_count": null,
   "id": "2f840b04",
   "metadata": {},
   "outputs": [],
   "source": []
  },
  {
   "cell_type": "code",
   "execution_count": null,
   "id": "3c6a51b8",
   "metadata": {},
   "outputs": [],
   "source": []
  },
  {
   "cell_type": "code",
   "execution_count": null,
   "id": "c07d202b",
   "metadata": {},
   "outputs": [],
   "source": []
  },
  {
   "cell_type": "markdown",
   "id": "cd3c5c33",
   "metadata": {},
   "source": [
    "# "
   ]
  }
 ],
 "metadata": {
  "kernelspec": {
   "display_name": "Python 3 (ipykernel)",
   "language": "python",
   "name": "python3"
  },
  "language_info": {
   "codemirror_mode": {
    "name": "ipython",
    "version": 3
   },
   "file_extension": ".py",
   "mimetype": "text/x-python",
   "name": "python",
   "nbconvert_exporter": "python",
   "pygments_lexer": "ipython3",
   "version": "3.9.7"
  }
 },
 "nbformat": 4,
 "nbformat_minor": 5
}
