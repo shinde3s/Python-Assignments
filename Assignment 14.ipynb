{
 "cells": [
  {
   "cell_type": "markdown",
   "id": "f298f335",
   "metadata": {},
   "source": [
    "# Assignment 14"
   ]
  },
  {
   "cell_type": "code",
   "execution_count": null,
   "id": "dda514a0",
   "metadata": {},
   "outputs": [],
   "source": [
    "1. What does RGBA stand for?"
   ]
  },
  {
   "cell_type": "code",
   "execution_count": null,
   "id": "0570af7d",
   "metadata": {},
   "outputs": [],
   "source": [
    "Ans: RGBA stands for Red-Green-Blue-Alpha. It used to give the colour information and transperancy information. \n",
    "     RGB are in range of 0 to 255 and alpha(A) is between 0.0 to 1.0."
   ]
  },
  {
   "cell_type": "code",
   "execution_count": null,
   "id": "587c8d98",
   "metadata": {},
   "outputs": [],
   "source": [
    "2. From the Pillow module, how do you get the RGBA value of any images?"
   ]
  },
  {
   "cell_type": "code",
   "execution_count": null,
   "id": "ae7fd5bd",
   "metadata": {},
   "outputs": [],
   "source": [
    "Ans: ImageColor.getcolor() gives rgba value of any image"
   ]
  },
  {
   "cell_type": "code",
   "execution_count": null,
   "id": "d0b18c29",
   "metadata": {},
   "outputs": [],
   "source": [
    "3. What is a box tuple, and how does it work?"
   ]
  },
  {
   "cell_type": "code",
   "execution_count": null,
   "id": "3dac351d",
   "metadata": {},
   "outputs": [],
   "source": [
    "Ans: box_tuple of the image represents [left, up, right, bottom].\n",
    "     Example: [100,100,500,500] so the left co-ordinate is 100, up is 100 and right and bottom are 500 respectively. \n",
    "     It is used to crop the image."
   ]
  },
  {
   "cell_type": "code",
   "execution_count": null,
   "id": "2dd103b5",
   "metadata": {},
   "outputs": [],
   "source": [
    "4. Use your image and load in notebook then, How can you find out the width and height of an Image object?"
   ]
  },
  {
   "cell_type": "code",
   "execution_count": null,
   "id": "9a28db24",
   "metadata": {},
   "outputs": [],
   "source": [
    "Ans:\n",
    "from PIL import Image,\n",
    "img = Image.open('Image.jpeg')\n",
    "width,height = img.size\n",
    "print('Width, Height : {0},{1}'.format(width,height)) # Approach 3,\n",
    "img.size"
   ]
  },
  {
   "cell_type": "code",
   "execution_count": null,
   "id": "74993a3d",
   "metadata": {},
   "outputs": [],
   "source": [
    "5. What method would you call to get Image object for a 100×100 image, excluding the lower-left quarter of it?"
   ]
  },
  {
   "cell_type": "code",
   "execution_count": null,
   "id": "e8239ff8",
   "metadata": {},
   "outputs": [],
   "source": [
    "Ans: \n",
    "from PIL import Image,\n",
    "img = Image.open(Image.jpeg)\n",
    "img.show()\n",
    "crp = img.crop((100,100,300,300)),\n",
    "crp.show()"
   ]
  },
  {
   "cell_type": "code",
   "execution_count": null,
   "id": "6ee545e5",
   "metadata": {},
   "outputs": [],
   "source": [
    "6. After making changes to an Image object, how could you save it as an image file?"
   ]
  },
  {
   "cell_type": "code",
   "execution_count": null,
   "id": "bae0aeb1",
   "metadata": {},
   "outputs": [],
   "source": [
    "Ans: crp.save(cropped.jpeg)"
   ]
  },
  {
   "cell_type": "code",
   "execution_count": null,
   "id": "9ad63f2d",
   "metadata": {},
   "outputs": [],
   "source": [
    "7. What module contains Pillow’s shape-drawing code?"
   ]
  },
  {
   "cell_type": "code",
   "execution_count": null,
   "id": "d39534a2",
   "metadata": {},
   "outputs": [],
   "source": [
    "Ans: 'ImageDraw' module contains pillow's shape drawing code"
   ]
  },
  {
   "cell_type": "code",
   "execution_count": null,
   "id": "2858e0fb",
   "metadata": {},
   "outputs": [],
   "source": [
    "8. Image objects do not have drawing methods. What kind of object does? How do you get this kind of object?"
   ]
  },
  {
   "cell_type": "code",
   "execution_count": null,
   "id": "77672510",
   "metadata": {},
   "outputs": [],
   "source": [
    "Ans: ImageDraw has drawing methods and can be used by passing the image object to ImageDraw.Draw() function."
   ]
  }
 ],
 "metadata": {
  "kernelspec": {
   "display_name": "Python 3 (ipykernel)",
   "language": "python",
   "name": "python3"
  },
  "language_info": {
   "codemirror_mode": {
    "name": "ipython",
    "version": 3
   },
   "file_extension": ".py",
   "mimetype": "text/x-python",
   "name": "python",
   "nbconvert_exporter": "python",
   "pygments_lexer": "ipython3",
   "version": "3.9.7"
  }
 },
 "nbformat": 4,
 "nbformat_minor": 5
}
