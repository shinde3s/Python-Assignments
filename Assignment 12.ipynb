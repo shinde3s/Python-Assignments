{
 "cells": [
  {
   "cell_type": "markdown",
   "id": "e4612f53",
   "metadata": {},
   "source": [
    "# Assignment 12"
   ]
  },
  {
   "cell_type": "code",
   "execution_count": null,
   "id": "2933af8f",
   "metadata": {},
   "outputs": [],
   "source": [
    "1. In what modes should the PdfFileReader() and PdfFileWriter() File objects will be opened?"
   ]
  },
  {
   "cell_type": "code",
   "execution_count": null,
   "id": "bb12c8a4",
   "metadata": {},
   "outputs": [],
   "source": [
    "Ans: rb (read binary) mode should be used to open PdfFileReader() file object. \n",
    "     wb (wirte binary) mode should be used to open PdfFileWriter() file object."
   ]
  },
  {
   "cell_type": "code",
   "execution_count": null,
   "id": "208f6ab3",
   "metadata": {},
   "outputs": [],
   "source": [
    "2. From a PdfFileReader object, how do you get a Page object for page 5?"
   ]
  },
  {
   "cell_type": "code",
   "execution_count": null,
   "id": "42e5c11c",
   "metadata": {},
   "outputs": [],
   "source": [
    "Ans: getPage(5) is to be used to get page object from PdfFileReader() class."
   ]
  },
  {
   "cell_type": "code",
   "execution_count": null,
   "id": "350d963b",
   "metadata": {},
   "outputs": [],
   "source": [
    "3. What PdfFileReader variable stores the number of pages in the PDF document?"
   ]
  },
  {
   "cell_type": "code",
   "execution_count": null,
   "id": "c9fafe06",
   "metadata": {},
   "outputs": [],
   "source": [
    "Ans: getNumPages() is used to store number of pages in PDF document."
   ]
  },
  {
   "cell_type": "code",
   "execution_count": null,
   "id": "95bddfd9",
   "metadata": {},
   "outputs": [],
   "source": [
    "4. If a PdfFileReader object’s PDF is encrypted with the password swordfish, what must you do\n",
    "before you can obtain Page objects from it?"
   ]
  },
  {
   "cell_type": "code",
   "execution_count": null,
   "id": "5fd57d74",
   "metadata": {},
   "outputs": [],
   "source": [
    "Ans: Use decrypt() with the said password and then read its contents. It might throw an error if unable to decrypt."
   ]
  },
  {
   "cell_type": "code",
   "execution_count": null,
   "id": "a584cbb7",
   "metadata": {},
   "outputs": [],
   "source": [
    "5. What methods do you use to rotate a page?"
   ]
  },
  {
   "cell_type": "code",
   "execution_count": null,
   "id": "373d1286",
   "metadata": {},
   "outputs": [],
   "source": [
    "Ans: rotateCounterClockwise() and rotateClockwise() methods are used to rotate a page.\n",
    "     We can only rotate pages with increments of 90 degrees."
   ]
  },
  {
   "cell_type": "code",
   "execution_count": null,
   "id": "bb22501e",
   "metadata": {},
   "outputs": [],
   "source": [
    "6. What is the difference between a Run object and a Paragraph object?"
   ]
  },
  {
   "cell_type": "code",
   "execution_count": null,
   "id": "44504cb1",
   "metadata": {},
   "outputs": [],
   "source": [
    "Ans:\n",
    "The structure of a document is represented by three different data types in python-Docx.\n",
    "At the highest level, a Document object represents the entire document.\n",
    "The Document object contains a list of Paragraph objects for the paragraphs in the document.\n",
    "(A new paragraph begins whenever the user presses ENTER or RETURN while typing in a Word document.)\n",
    "Each of these Paragraph objects contains a list of one or more Run objects.\n",
    "\n",
    "The text in a Word document is more than just a string.\n",
    "It has font, size, color, and other styling information associated with it.\n",
    "A style in Word is a collection of these attributes. \n",
    "A Run object is a contiguous run of text with the same style.\n",
    "A new Run object is needed whenever the text style changes."
   ]
  },
  {
   "cell_type": "code",
   "execution_count": null,
   "id": "8826e5db",
   "metadata": {},
   "outputs": [],
   "source": [
    "7. How do you obtain a list of Paragraph objects for a Document object that’s stored in a variable\n",
    "named doc?"
   ]
  },
  {
   "cell_type": "code",
   "execution_count": null,
   "id": "2c31d267",
   "metadata": {},
   "outputs": [],
   "source": [
    "Ans:\n",
    "from docx import Document,\n",
    "doc = Document(file_path),\n",
    "print(doc.paragraphs),\n",
    "l=[para for para in doc.paragraphs]"
   ]
  },
  {
   "cell_type": "code",
   "execution_count": null,
   "id": "75b8920d",
   "metadata": {},
   "outputs": [],
   "source": [
    "8. What type of object has bold, underline, italic, strike, and outline variables?"
   ]
  },
  {
   "cell_type": "code",
   "execution_count": null,
   "id": "bd3119f2",
   "metadata": {},
   "outputs": [],
   "source": [
    "Ans: The Run object has the functions like bold, underline, italic, strike, and outline variables."
   ]
  },
  {
   "cell_type": "code",
   "execution_count": null,
   "id": "acff8186",
   "metadata": {},
   "outputs": [],
   "source": [
    "9. What is the difference between False, True, and None for the bold variable?"
   ]
  },
  {
   "cell_type": "code",
   "execution_count": null,
   "id": "92b3432a",
   "metadata": {},
   "outputs": [],
   "source": [
    "Ans: \n",
    "When True the style is set to bold.\n",
    "When False the style is NOT set to bold.\n",
    "When None the style is NOT APPLICABLE."
   ]
  },
  {
   "cell_type": "code",
   "execution_count": null,
   "id": "c95c3960",
   "metadata": {},
   "outputs": [],
   "source": [
    "10. How do you create a Document object for a new Word document?"
   ]
  },
  {
   "cell_type": "code",
   "execution_count": null,
   "id": "bf3085db",
   "metadata": {},
   "outputs": [],
   "source": [
    "Ans:\n",
    "from docx import Document,\n",
    "doc = Document(),\n",
    "doc.add_paragraph(\"This is a new word document\"),\n",
    "doc.save('NewDocument.docx')"
   ]
  },
  {
   "cell_type": "code",
   "execution_count": null,
   "id": "372e07f7",
   "metadata": {},
   "outputs": [],
   "source": [
    "11. How do you add a paragraph with the text Hello, there; to a Document object stored in a\n",
    "variable named doc?"
   ]
  },
  {
   "cell_type": "code",
   "execution_count": null,
   "id": "f5aff26d",
   "metadata": {},
   "outputs": [],
   "source": [
    "Ans:\n",
    "from docx import Document,\n",
    "doc = Document(),\n",
    "doc.add_paragraph(\"Hello, there!\"),\n",
    "doc.save('HelloDoc.docx')"
   ]
  },
  {
   "cell_type": "code",
   "execution_count": null,
   "id": "b0d45070",
   "metadata": {},
   "outputs": [],
   "source": [
    "12. What integers represent the levels of headings available in Word documents?"
   ]
  },
  {
   "cell_type": "code",
   "execution_count": null,
   "id": "37923a6a",
   "metadata": {},
   "outputs": [],
   "source": [
    "Ans:\n",
    "Total 5 levels are available, from 0 to 4. 0 is a headline with a line below it. \n",
    "1 is the main heading with decreased font size. \n",
    "Further the heading font size goes on decreasing until for where it is least."
   ]
  }
 ],
 "metadata": {
  "kernelspec": {
   "display_name": "Python 3 (ipykernel)",
   "language": "python",
   "name": "python3"
  },
  "language_info": {
   "codemirror_mode": {
    "name": "ipython",
    "version": 3
   },
   "file_extension": ".py",
   "mimetype": "text/x-python",
   "name": "python",
   "nbconvert_exporter": "python",
   "pygments_lexer": "ipython3",
   "version": "3.9.7"
  }
 },
 "nbformat": 4,
 "nbformat_minor": 5
}
