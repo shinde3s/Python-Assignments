{
 "cells": [
  {
   "cell_type": "markdown",
   "id": "c2704cdf",
   "metadata": {},
   "source": [
    " # Assignment 8"
   ]
  },
  {
   "cell_type": "code",
   "execution_count": null,
   "id": "cf0b4816",
   "metadata": {},
   "outputs": [],
   "source": [
    "1. Is the Python Standard Library included with PyInputPlus?"
   ]
  },
  {
   "cell_type": "code",
   "execution_count": null,
   "id": "36525b38",
   "metadata": {},
   "outputs": [],
   "source": [
    "Ans: No, PyInputPlus is not a Python Standard Library. We need to install it seperately."
   ]
  },
  {
   "cell_type": "code",
   "execution_count": null,
   "id": "21abd728",
   "metadata": {},
   "outputs": [],
   "source": [
    "2. Why is PyInputPlus commonly imported with import pyinputplus as pypi?"
   ]
  },
  {
   "cell_type": "code",
   "execution_count": null,
   "id": "94feddc5",
   "metadata": {},
   "outputs": [],
   "source": [
    "Ans: import pyinputplus as pypi is commonly used where pypi is alias to pyinputplus. \n",
    "     The alias are used for any library as typing the full name of library for every fuction is time consuming."
   ]
  },
  {
   "cell_type": "code",
   "execution_count": null,
   "id": "9074ef57",
   "metadata": {},
   "outputs": [],
   "source": [
    "3. How do you distinguish between inputInt() and inputFloat()?"
   ]
  },
  {
   "cell_type": "code",
   "execution_count": null,
   "id": "9b996cbb",
   "metadata": {},
   "outputs": [],
   "source": [
    "Ans: inputInt(): Accepts an integer value, and returns int value,\n",
    "     inputFloat(): Accepts integer/floating point value and returns float value,\n",
    "     Both takes additional parameters ‘min’, ‘max’, ‘greaterThan’ and ‘lessThan’ for bounds."
   ]
  },
  {
   "cell_type": "code",
   "execution_count": null,
   "id": "1f6bd8d3",
   "metadata": {},
   "outputs": [],
   "source": [
    "4. Using PyInputPlus, how do you ensure that the user enters a whole number between 0 and 99?"
   ]
  },
  {
   "cell_type": "code",
   "execution_count": null,
   "id": "2174679e",
   "metadata": {},
   "outputs": [],
   "source": [
    "Ans: PyInputPlus has a function called inputInt() which returns only the integer values and not floats, \n",
    "     along withs this we could specify the min and max parameters to get the values from user between the desired range."
   ]
  },
  {
   "cell_type": "code",
   "execution_count": null,
   "id": "a42c852a",
   "metadata": {},
   "outputs": [],
   "source": [
    "5. What is transferred to the keyword arguments allowRegexes and blockRegexes?"
   ]
  },
  {
   "cell_type": "code",
   "execution_count": null,
   "id": "965db884",
   "metadata": {},
   "outputs": [],
   "source": [
    "Ans: The allowRegexes and blockRegexes keyword arguments take a list of regular expression strings to determine \n",
    "     whether the PyInputPlus function accepts or rejects as valid input."
   ]
  },
  {
   "cell_type": "code",
   "execution_count": null,
   "id": "7f58e3f6",
   "metadata": {},
   "outputs": [],
   "source": [
    "6. If a blank input is entered three times, what does inputStr(limit=3) do?"
   ]
  },
  {
   "cell_type": "code",
   "execution_count": null,
   "id": "8239d229",
   "metadata": {},
   "outputs": [],
   "source": [
    "Ans: It will throw two exceptions ValidationException and RetryLimitException.\n",
    "     The first exception is thrown because blank values are not allowed by inputStr() function by default.\n",
    "     The second exception is occured because we have reached the max limit we have specified by using limit parameter.\n",
    "     If we want to consider blank values as valid input, we have to set blank=True. \n",
    "     In order to avoid this exception we can use default parameter to return a default value when max limit is reached."
   ]
  },
  {
   "cell_type": "code",
   "execution_count": null,
   "id": "b333bedd",
   "metadata": {},
   "outputs": [],
   "source": [
    "7. If blank input is entered three times, what does inputStr(limit=3, default='hello') do?"
   ]
  },
  {
   "cell_type": "code",
   "execution_count": null,
   "id": "873cc5e0",
   "metadata": {},
   "outputs": [],
   "source": [
    "Ans: Since the default parameter is set to ``hello``, \n",
    "     after input is blank three times instead of raising RetryLimitException exception, \n",
    "     the function will return ``hello`` as response to the calling function."
   ]
  }
 ],
 "metadata": {
  "kernelspec": {
   "display_name": "Python 3 (ipykernel)",
   "language": "python",
   "name": "python3"
  },
  "language_info": {
   "codemirror_mode": {
    "name": "ipython",
    "version": 3
   },
   "file_extension": ".py",
   "mimetype": "text/x-python",
   "name": "python",
   "nbconvert_exporter": "python",
   "pygments_lexer": "ipython3",
   "version": "3.9.7"
  }
 },
 "nbformat": 4,
 "nbformat_minor": 5
}
